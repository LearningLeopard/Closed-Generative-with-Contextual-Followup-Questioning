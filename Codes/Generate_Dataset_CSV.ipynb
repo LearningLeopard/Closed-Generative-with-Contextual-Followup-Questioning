{
 "cells": [
  {
   "cell_type": "code",
   "execution_count": 57,
   "metadata": {},
   "outputs": [],
   "source": [
    "from datasets import Dataset\n",
    "import pandas as pd\n",
    "from bs4 import BeautifulSoup\n",
    "import numpy as np\n",
    "# https://data.stackexchange.com/travel/query/1869449/visa-question-and-answers"
   ]
  },
  {
   "cell_type": "code",
   "execution_count": 58,
   "metadata": {},
   "outputs": [],
   "source": [
    "DATASET_PATH = \"../Datasets/VIsa_Questions_Stack_Exchange_V2.csv\""
   ]
  },
  {
   "cell_type": "code",
   "execution_count": 59,
   "metadata": {},
   "outputs": [
    {
     "data": {
      "text/plain": [
       "<bound method NDFrame.head of        QScore                                          Post Link  \\\n",
       "0          30  {\\r\\n  \"id\": 11,\\r\\n  \"title\": \"What is the be...   \n",
       "1          30  {\\r\\n  \"id\": 11,\\r\\n  \"title\": \"What is the be...   \n",
       "2          30  {\\r\\n  \"id\": 11,\\r\\n  \"title\": \"What is the be...   \n",
       "3          30  {\\r\\n  \"id\": 11,\\r\\n  \"title\": \"What is the be...   \n",
       "4          25  {\\r\\n  \"id\": 136,\\r\\n  \"title\": \"Is it safe to...   \n",
       "...       ...                                                ...   \n",
       "21048       1  {\\r\\n  \"id\": 191800,\\r\\n  \"title\": \"Transit at...   \n",
       "21049       0  {\\r\\n  \"id\": 191808,\\r\\n  \"title\": \"Self trans...   \n",
       "21050      -2  {\\r\\n  \"id\": 191821,\\r\\n  \"title\": \"Can a Sche...   \n",
       "21051       8  {\\r\\n  \"id\": 191834,\\r\\n  \"title\": \"Japanese b...   \n",
       "21052       8  {\\r\\n  \"id\": 191834,\\r\\n  \"title\": \"Japanese b...   \n",
       "\n",
       "                                                   Title  \\\n",
       "0      What is the best way to obtain visas for the T...   \n",
       "1      What is the best way to obtain visas for the T...   \n",
       "2      What is the best way to obtain visas for the T...   \n",
       "3      What is the best way to obtain visas for the T...   \n",
       "4                Is it safe to travel to Socotra, Yemen?   \n",
       "...                                                  ...   \n",
       "21048  Transit at Abu Dhabi Airport from Europe to India   \n",
       "21049       Self transfer in Milan without Schengen visa   \n",
       "21050  Can a Schengen country issue a national non-Sc...   \n",
       "21051   Japanese businesses checking for landing sticker   \n",
       "21052   Japanese businesses checking for landing sticker   \n",
       "\n",
       "                                                    Tags  \\\n",
       "0       <russia><visas><china><mongolia><trans-siberian>   \n",
       "1       <russia><visas><china><mongolia><trans-siberian>   \n",
       "2       <russia><visas><china><mongolia><trans-siberian>   \n",
       "3       <russia><visas><china><mongolia><trans-siberian>   \n",
       "4      <safety><transportation><middle-east><war-zone...   \n",
       "...                                                  ...   \n",
       "21048          <transit-visas><abu-dhabi><self-transfer>   \n",
       "21049  <schengen><schengen-visas><layovers><self-tran...   \n",
       "21050        <visas><schengen><schengen-visas><seasonal>   \n",
       "21051                   <customs-and-immigration><japan>   \n",
       "21052                   <customs-and-immigration><japan>   \n",
       "\n",
       "                                           Question Body  Questioner  AScore  \\\n",
       "0      <p>I'm planning on taking the trans-Siberian /...        30.0      12   \n",
       "1      <p>I'm planning on taking the trans-Siberian /...        30.0      29   \n",
       "2      <p>I'm planning on taking the trans-Siberian /...        30.0      10   \n",
       "3      <p>I'm planning on taking the trans-Siberian /...        30.0       5   \n",
       "4      <p>I have been wanting to travel to <a href=\"h...        65.0      17   \n",
       "...                                                  ...         ...     ...   \n",
       "21048  <p>I have a flight(WizzAir) from Rome to Abu D...    175099.0       2   \n",
       "21049  <p>I’m flying from Dublin to Kochi with a self...    175315.0       8   \n",
       "21050  <p>Do members of schengen always issue schenge...      6428.0       2   \n",
       "21051  <p>First time traveling to Japan and so far I'...    173362.0       5   \n",
       "21052  <p>First time traveling to Japan and so far I'...    173362.0      20   \n",
       "\n",
       "                                             Answer Body        AnswerDate  \n",
       "0      <p>As I know, in Russia visas can be achieved ...  21-06-2011 20:57  \n",
       "1      <p>You're very unlikely to get them rejected i...  22-06-2011 09:52  \n",
       "2      <p>I was looking into the same journey recentl...  08-07-2011 08:27  \n",
       "3      <p>For the record, <strong>it is not necessary...  31-05-2018 06:39  \n",
       "4      <p>Answering my own question: it looks like al...  22-06-2011 01:07  \n",
       "...                                                  ...               ...  \n",
       "21048  <p><a href=\"https://u.ae/en/information-and-se...  17-10-2024 20:18  \n",
       "21049  <p><strong>You need a full Schengen visa (type...  17-10-2024 14:45  \n",
       "21050  <p>The whole principle of the Schengen Area is...  18-10-2024 11:56  \n",
       "21051  <p>In a word, <strong>no</strong>. You are req...  19-10-2024 11:19  \n",
       "21052  <p>Foreign licenses are valid in Japan for a m...  19-10-2024 17:01  \n",
       "\n",
       "[21053 rows x 9 columns]>"
      ]
     },
     "execution_count": 59,
     "metadata": {},
     "output_type": "execute_result"
    }
   ],
   "source": [
    "dataset_df = pd.read_csv(DATASET_PATH, header=0)\n",
    "dataset_df.head"
   ]
  },
  {
   "cell_type": "code",
   "execution_count": 60,
   "metadata": {},
   "outputs": [
    {
     "data": {
      "text/html": [
       "<div>\n",
       "<style scoped>\n",
       "    .dataframe tbody tr th:only-of-type {\n",
       "        vertical-align: middle;\n",
       "    }\n",
       "\n",
       "    .dataframe tbody tr th {\n",
       "        vertical-align: top;\n",
       "    }\n",
       "\n",
       "    .dataframe thead th {\n",
       "        text-align: right;\n",
       "    }\n",
       "</style>\n",
       "<table border=\"1\" class=\"dataframe\">\n",
       "  <thead>\n",
       "    <tr style=\"text-align: right;\">\n",
       "      <th></th>\n",
       "      <th>Tags</th>\n",
       "      <th>Question Body</th>\n",
       "      <th>Answer Body</th>\n",
       "      <th>AScore</th>\n",
       "    </tr>\n",
       "  </thead>\n",
       "  <tbody>\n",
       "    <tr>\n",
       "      <th>0</th>\n",
       "      <td>russia,visas,china,mongolia,trans-siberian</td>\n",
       "      <td>I'm planning on taking the trans-Siberian / tr...</td>\n",
       "      <td>As I know, in Russia visas can be achieved in ...</td>\n",
       "      <td>0.048980</td>\n",
       "    </tr>\n",
       "    <tr>\n",
       "      <th>1</th>\n",
       "      <td>russia,visas,china,mongolia,trans-siberian</td>\n",
       "      <td>I'm planning on taking the trans-Siberian / tr...</td>\n",
       "      <td>You're very unlikely to get them rejected if y...</td>\n",
       "      <td>0.118367</td>\n",
       "    </tr>\n",
       "    <tr>\n",
       "      <th>2</th>\n",
       "      <td>russia,visas,china,mongolia,trans-siberian</td>\n",
       "      <td>I'm planning on taking the trans-Siberian / tr...</td>\n",
       "      <td>I was looking into the same journey recently a...</td>\n",
       "      <td>0.040816</td>\n",
       "    </tr>\n",
       "    <tr>\n",
       "      <th>3</th>\n",
       "      <td>russia,visas,china,mongolia,trans-siberian</td>\n",
       "      <td>I'm planning on taking the trans-Siberian / tr...</td>\n",
       "      <td>For the record, it is not necessary to go thro...</td>\n",
       "      <td>0.020408</td>\n",
       "    </tr>\n",
       "    <tr>\n",
       "      <th>4</th>\n",
       "      <td>safety,transportation,middle-east,war-zones,yemen</td>\n",
       "      <td>I have been wanting to travel to Socotra, Yeme...</td>\n",
       "      <td>Answering my own question: it looks like all f...</td>\n",
       "      <td>0.069388</td>\n",
       "    </tr>\n",
       "    <tr>\n",
       "      <th>...</th>\n",
       "      <td>...</td>\n",
       "      <td>...</td>\n",
       "      <td>...</td>\n",
       "      <td>...</td>\n",
       "    </tr>\n",
       "    <tr>\n",
       "      <th>21048</th>\n",
       "      <td>transit-visas,abu-dhabi,self-transfer</td>\n",
       "      <td>I have a flight(WizzAir) from Rome to Abu Dhab...</td>\n",
       "      <td>The UAE only allows transit visas if you are f...</td>\n",
       "      <td>0.008163</td>\n",
       "    </tr>\n",
       "    <tr>\n",
       "      <th>21049</th>\n",
       "      <td>schengen,schengen-visas,layovers,self-transfer...</td>\n",
       "      <td>I’m flying from Dublin to Kochi with a self-tr...</td>\n",
       "      <td>You need a full Schengen visa (type C).\\nAn Ai...</td>\n",
       "      <td>0.032653</td>\n",
       "    </tr>\n",
       "    <tr>\n",
       "      <th>21050</th>\n",
       "      <td>visas,schengen,schengen-visas,seasonal</td>\n",
       "      <td>Do members of schengen always issue schengen v...</td>\n",
       "      <td>The whole principle of the Schengen Area is th...</td>\n",
       "      <td>0.008163</td>\n",
       "    </tr>\n",
       "    <tr>\n",
       "      <th>21051</th>\n",
       "      <td>customs-and-immigration,japan</td>\n",
       "      <td>First time traveling to Japan and so far I've ...</td>\n",
       "      <td>In a word, no. You are required to present you...</td>\n",
       "      <td>0.020408</td>\n",
       "    </tr>\n",
       "    <tr>\n",
       "      <th>21052</th>\n",
       "      <td>customs-and-immigration,japan</td>\n",
       "      <td>First time traveling to Japan and so far I've ...</td>\n",
       "      <td>Foreign licenses are valid in Japan for a maxi...</td>\n",
       "      <td>0.081633</td>\n",
       "    </tr>\n",
       "  </tbody>\n",
       "</table>\n",
       "<p>21053 rows × 4 columns</p>\n",
       "</div>"
      ],
      "text/plain": [
       "                                                    Tags  \\\n",
       "0             russia,visas,china,mongolia,trans-siberian   \n",
       "1             russia,visas,china,mongolia,trans-siberian   \n",
       "2             russia,visas,china,mongolia,trans-siberian   \n",
       "3             russia,visas,china,mongolia,trans-siberian   \n",
       "4      safety,transportation,middle-east,war-zones,yemen   \n",
       "...                                                  ...   \n",
       "21048              transit-visas,abu-dhabi,self-transfer   \n",
       "21049  schengen,schengen-visas,layovers,self-transfer...   \n",
       "21050             visas,schengen,schengen-visas,seasonal   \n",
       "21051                      customs-and-immigration,japan   \n",
       "21052                      customs-and-immigration,japan   \n",
       "\n",
       "                                           Question Body  \\\n",
       "0      I'm planning on taking the trans-Siberian / tr...   \n",
       "1      I'm planning on taking the trans-Siberian / tr...   \n",
       "2      I'm planning on taking the trans-Siberian / tr...   \n",
       "3      I'm planning on taking the trans-Siberian / tr...   \n",
       "4      I have been wanting to travel to Socotra, Yeme...   \n",
       "...                                                  ...   \n",
       "21048  I have a flight(WizzAir) from Rome to Abu Dhab...   \n",
       "21049  I’m flying from Dublin to Kochi with a self-tr...   \n",
       "21050  Do members of schengen always issue schengen v...   \n",
       "21051  First time traveling to Japan and so far I've ...   \n",
       "21052  First time traveling to Japan and so far I've ...   \n",
       "\n",
       "                                             Answer Body    AScore  \n",
       "0      As I know, in Russia visas can be achieved in ...  0.048980  \n",
       "1      You're very unlikely to get them rejected if y...  0.118367  \n",
       "2      I was looking into the same journey recently a...  0.040816  \n",
       "3      For the record, it is not necessary to go thro...  0.020408  \n",
       "4      Answering my own question: it looks like all f...  0.069388  \n",
       "...                                                  ...       ...  \n",
       "21048  The UAE only allows transit visas if you are f...  0.008163  \n",
       "21049  You need a full Schengen visa (type C).\\nAn Ai...  0.032653  \n",
       "21050  The whole principle of the Schengen Area is th...  0.008163  \n",
       "21051  In a word, no. You are required to present you...  0.020408  \n",
       "21052  Foreign licenses are valid in Japan for a maxi...  0.081633  \n",
       "\n",
       "[21053 rows x 4 columns]"
      ]
     },
     "execution_count": 60,
     "metadata": {},
     "output_type": "execute_result"
    }
   ],
   "source": [
    "column_refined_df = dataset_df[[\"Tags\", \"Question Body\", \"Answer Body\", \"AScore\"]]\n",
    "# column_refined_df\n",
    "max_score = np.max(dataset_df[\"AScore\"])\n",
    "# print(max_score)\n",
    "def remove_html_tags(row):\n",
    "    row[\"Question Body\"] = BeautifulSoup(row['Question Body'], 'html.parser').get_text()\n",
    "    row[\"Answer Body\"] = BeautifulSoup(row['Answer Body'], 'html.parser').get_text()\n",
    "    row[\"Tags\"] = \",\".join(row[\"Tags\"][1:-1].split(\"><\"))\n",
    "    row[\"AScore\"] /= max_score\n",
    "    return row\n",
    "\n",
    "column_refined_df = column_refined_df.apply(remove_html_tags, axis=1)\n",
    "column_refined_df"
   ]
  },
  {
   "cell_type": "code",
   "execution_count": 61,
   "metadata": {},
   "outputs": [
    {
     "name": "stdout",
     "output_type": "stream",
     "text": [
      "Dataset({\n",
      "    features: ['Tags', 'Question Body', 'Answer Body', 'AScore'],\n",
      "    num_rows: 21053\n",
      "})\n"
     ]
    }
   ],
   "source": [
    "# Preprocessing\n",
    "hf_dataset = Dataset.from_pandas(column_refined_df)\n",
    "print(hf_dataset)"
   ]
  },
  {
   "cell_type": "code",
   "execution_count": 62,
   "metadata": {},
   "outputs": [
    {
     "data": {
      "text/plain": [
       "DatasetDict({\n",
       "    train: Dataset({\n",
       "        features: ['meta_tags', 'question', 'answer', 'target_score'],\n",
       "        num_rows: 15789\n",
       "    })\n",
       "    test: Dataset({\n",
       "        features: ['meta_tags', 'question', 'answer', 'target_score'],\n",
       "        num_rows: 5264\n",
       "    })\n",
       "})"
      ]
     },
     "execution_count": 62,
     "metadata": {},
     "output_type": "execute_result"
    }
   ],
   "source": [
    "hf_dataset = hf_dataset.train_test_split(test_size=0.25)\n",
    "hf_dataset = hf_dataset.rename_column(\"Question Body\", \"question\")\n",
    "hf_dataset = hf_dataset.rename_column(\"Answer Body\", \"answer\")\n",
    "hf_dataset = hf_dataset.rename_column(\"AScore\", \"target_score\")\n",
    "hf_dataset = hf_dataset.rename_column(\"Tags\", \"meta_tags\")\n",
    "hf_dataset"
   ]
  },
  {
   "cell_type": "code",
   "execution_count": 63,
   "metadata": {},
   "outputs": [
    {
     "name": "stderr",
     "output_type": "stream",
     "text": [
      "Saving the dataset (1/1 shards): 100%|██████████| 15789/15789 [00:00<00:00, 121427.24 examples/s]\n",
      "Saving the dataset (1/1 shards): 100%|██████████| 5264/5264 [00:00<00:00, 116949.70 examples/s]\n"
     ]
    }
   ],
   "source": [
    "hf_dataset.save_to_disk(\"../Datasets/Visa_QA_V2\")"
   ]
  }
 ],
 "metadata": {
  "kernelspec": {
   "display_name": ".venv",
   "language": "python",
   "name": "python3"
  },
  "language_info": {
   "codemirror_mode": {
    "name": "ipython",
    "version": 3
   },
   "file_extension": ".py",
   "mimetype": "text/x-python",
   "name": "python",
   "nbconvert_exporter": "python",
   "pygments_lexer": "ipython3",
   "version": "3.10.2"
  }
 },
 "nbformat": 4,
 "nbformat_minor": 2
}
