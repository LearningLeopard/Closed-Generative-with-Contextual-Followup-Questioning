{
 "cells": [
  {
   "cell_type": "code",
   "execution_count": 1,
   "metadata": {},
   "outputs": [
    {
     "name": "stderr",
     "output_type": "stream",
     "text": [
      "d:\\Acads\\Sem - 1\\CS 505 Natural Language Processing\\Research Project Repo\\.venv\\lib\\site-packages\\tqdm\\auto.py:21: TqdmWarning: IProgress not found. Please update jupyter and ipywidgets. See https://ipywidgets.readthedocs.io/en/stable/user_install.html\n",
      "  from .autonotebook import tqdm as notebook_tqdm\n"
     ]
    }
   ],
   "source": [
    "from datasets import Dataset, DatasetDict\n",
    "import pandas as pd\n",
    "from bs4 import BeautifulSoup\n",
    "import numpy as np\n",
    "# https://data.stackexchange.com/travel/query/1869449/visa-question-and-answers\n",
    "import matplotlib.pyplot as plt"
   ]
  },
  {
   "cell_type": "code",
   "execution_count": 2,
   "metadata": {},
   "outputs": [],
   "source": [
    "DATASET_PATH = \"../Datasets/Visa_Question_Stack_Exchange_V3.csv\""
   ]
  },
  {
   "cell_type": "code",
   "execution_count": 3,
   "metadata": {},
   "outputs": [
    {
     "data": {
      "text/plain": [
       "<bound method NDFrame.head of        QScore                                          Post Link  \\\n",
       "0          30  {\\r\\n  \"id\": 11,\\r\\n  \"title\": \"What is the be...   \n",
       "1          30  {\\r\\n  \"id\": 11,\\r\\n  \"title\": \"What is the be...   \n",
       "2          30  {\\r\\n  \"id\": 11,\\r\\n  \"title\": \"What is the be...   \n",
       "3          30  {\\r\\n  \"id\": 11,\\r\\n  \"title\": \"What is the be...   \n",
       "4          25  {\\r\\n  \"id\": 136,\\r\\n  \"title\": \"Is it safe to...   \n",
       "...       ...                                                ...   \n",
       "26611       5  {\\r\\n  \"id\": 192346,\\r\\n  \"title\": \"Traveling ...   \n",
       "26612       6  {\\r\\n  \"id\": 192355,\\r\\n  \"title\": \"Suggestion...   \n",
       "26613       6  {\\r\\n  \"id\": 192355,\\r\\n  \"title\": \"Suggestion...   \n",
       "26614       6  {\\r\\n  \"id\": 192355,\\r\\n  \"title\": \"Suggestion...   \n",
       "26615       3  {\\r\\n  \"id\": 192358,\\r\\n  \"title\": \"USA B2 vis...   \n",
       "\n",
       "                                                   Title  \\\n",
       "0      What is the best way to obtain visas for the T...   \n",
       "1      What is the best way to obtain visas for the T...   \n",
       "2      What is the best way to obtain visas for the T...   \n",
       "3      What is the best way to obtain visas for the T...   \n",
       "4                Is it safe to travel to Socotra, Yemen?   \n",
       "...                                                  ...   \n",
       "26611  Traveling Outside Germany: Impact on Residence...   \n",
       "26612  Suggestion for catching a flight with short la...   \n",
       "26613  Suggestion for catching a flight with short la...   \n",
       "26614  Suggestion for catching a flight with short la...   \n",
       "26615  USA B2 visa implications of a UK visa application   \n",
       "\n",
       "                                                    Tags  \\\n",
       "0       <russia><visas><china><mongolia><trans-siberian>   \n",
       "1       <russia><visas><china><mongolia><trans-siberian>   \n",
       "2       <russia><visas><china><mongolia><trans-siberian>   \n",
       "3       <russia><visas><china><mongolia><trans-siberian>   \n",
       "4      <safety><transportation><middle-east><war-zone...   \n",
       "...                                                  ...   \n",
       "26611                       <germany><residence-permits>   \n",
       "26612  <indian-citizens><short-connections><ams><delt...   \n",
       "26613  <indian-citizens><short-connections><ams><delt...   \n",
       "26614  <indian-citizens><short-connections><ams><delt...   \n",
       "26615  <uk><international-travel><visa-refusals><tour...   \n",
       "\n",
       "                                           Question Body  Questioner  AScore  \\\n",
       "0      <p>I'm planning on taking the trans-Siberian /...        30.0      29   \n",
       "1      <p>I'm planning on taking the trans-Siberian /...        30.0      10   \n",
       "2      <p>I'm planning on taking the trans-Siberian /...        30.0       5   \n",
       "3      <p>I'm planning on taking the trans-Siberian /...        30.0      12   \n",
       "4      <p>I have been wanting to travel to <a href=\"h...        65.0       5   \n",
       "...                                                  ...         ...     ...   \n",
       "26611  <p>I am a non-EU citizen who recently moved to...    182907.0       0   \n",
       "26612  <p>I am an Indian citizen (Indian Passport) wh...    175921.0       4   \n",
       "26613  <p>I am an Indian citizen (Indian Passport) wh...    175921.0       6   \n",
       "26614  <p>I am an Indian citizen (Indian Passport) wh...    175921.0       1   \n",
       "26615  <p>I have had a UK tourist visa refusal 2 yrs ...    181619.0       5   \n",
       "\n",
       "                                             Answer Body           AnswerDate  \\\n",
       "0      <p>You're very unlikely to get them rejected i...  2011-06-22 09:52:00   \n",
       "1      <p>I was looking into the same journey recentl...  2011-07-08 08:27:03   \n",
       "2      <p>For the record, <strong>it is not necessary...  2018-05-31 06:39:18   \n",
       "3      <p>As I know, in Russia visas can be achieved ...  2011-06-21 20:57:15   \n",
       "4      <p>The trees look amazing!</p>\\n\\n<p>According...  2011-12-29 02:40:54   \n",
       "...                                                  ...                  ...   \n",
       "26611  <p>Having a Fiktionsbescheinigung does not inv...  2024-11-22 13:46:35   \n",
       "26612  <p>There's not much you can do at this point t...  2024-11-23 07:34:34   \n",
       "26613  <p>That is indeed a close connection with an i...  2024-11-23 08:27:27   \n",
       "26614  <p>I agree with the other answers, they have v...  2024-11-23 16:04:08   \n",
       "26615  <blockquote>\\n<p>However if I get refused will...  2024-11-23 07:59:39   \n",
       "\n",
       "       IsAcceptedAnswer  \n",
       "0                     1  \n",
       "1                     0  \n",
       "2                     0  \n",
       "3                     0  \n",
       "4                     0  \n",
       "...                 ...  \n",
       "26611                 0  \n",
       "26612                 0  \n",
       "26613                 0  \n",
       "26614                 0  \n",
       "26615                 0  \n",
       "\n",
       "[26616 rows x 10 columns]>"
      ]
     },
     "execution_count": 3,
     "metadata": {},
     "output_type": "execute_result"
    }
   ],
   "source": [
    "dataset_df = pd.read_csv(DATASET_PATH, header=0)\n",
    "dataset_df.head"
   ]
  },
  {
   "cell_type": "code",
   "execution_count": null,
   "metadata": {},
   "outputs": [],
   "source": []
  },
  {
   "cell_type": "code",
   "execution_count": 4,
   "metadata": {},
   "outputs": [
    {
     "data": {
      "text/html": [
       "<div>\n",
       "<style scoped>\n",
       "    .dataframe tbody tr th:only-of-type {\n",
       "        vertical-align: middle;\n",
       "    }\n",
       "\n",
       "    .dataframe tbody tr th {\n",
       "        vertical-align: top;\n",
       "    }\n",
       "\n",
       "    .dataframe thead th {\n",
       "        text-align: right;\n",
       "    }\n",
       "</style>\n",
       "<table border=\"1\" class=\"dataframe\">\n",
       "  <thead>\n",
       "    <tr style=\"text-align: right;\">\n",
       "      <th></th>\n",
       "      <th>Tags</th>\n",
       "      <th>Question Body</th>\n",
       "      <th>Answer Body</th>\n",
       "      <th>AScore</th>\n",
       "      <th>IsAcceptedAnswer</th>\n",
       "    </tr>\n",
       "  </thead>\n",
       "  <tbody>\n",
       "    <tr>\n",
       "      <th>0</th>\n",
       "      <td>russia,visas,china,mongolia,trans-siberian</td>\n",
       "      <td>I'm planning on taking the trans-Siberian / tr...</td>\n",
       "      <td>You're very unlikely to get them rejected if y...</td>\n",
       "      <td>29</td>\n",
       "      <td>1</td>\n",
       "    </tr>\n",
       "    <tr>\n",
       "      <th>1</th>\n",
       "      <td>russia,visas,china,mongolia,trans-siberian</td>\n",
       "      <td>I'm planning on taking the trans-Siberian / tr...</td>\n",
       "      <td>I was looking into the same journey recently a...</td>\n",
       "      <td>10</td>\n",
       "      <td>0</td>\n",
       "    </tr>\n",
       "    <tr>\n",
       "      <th>2</th>\n",
       "      <td>russia,visas,china,mongolia,trans-siberian</td>\n",
       "      <td>I'm planning on taking the trans-Siberian / tr...</td>\n",
       "      <td>For the record, it is not necessary to go thro...</td>\n",
       "      <td>5</td>\n",
       "      <td>0</td>\n",
       "    </tr>\n",
       "    <tr>\n",
       "      <th>3</th>\n",
       "      <td>russia,visas,china,mongolia,trans-siberian</td>\n",
       "      <td>I'm planning on taking the trans-Siberian / tr...</td>\n",
       "      <td>As I know, in Russia visas can be achieved in ...</td>\n",
       "      <td>12</td>\n",
       "      <td>0</td>\n",
       "    </tr>\n",
       "    <tr>\n",
       "      <th>4</th>\n",
       "      <td>safety,transportation,middle-east,war-zones,yemen</td>\n",
       "      <td>I have been wanting to travel to Socotra, Yeme...</td>\n",
       "      <td>The trees look amazing!\\nAccording to Wikitrav...</td>\n",
       "      <td>5</td>\n",
       "      <td>0</td>\n",
       "    </tr>\n",
       "    <tr>\n",
       "      <th>...</th>\n",
       "      <td>...</td>\n",
       "      <td>...</td>\n",
       "      <td>...</td>\n",
       "      <td>...</td>\n",
       "      <td>...</td>\n",
       "    </tr>\n",
       "    <tr>\n",
       "      <th>26611</th>\n",
       "      <td>germany,residence-permits</td>\n",
       "      <td>I am a non-EU citizen who recently moved to Ge...</td>\n",
       "      <td>Having a Fiktionsbescheinigung does not invali...</td>\n",
       "      <td>0</td>\n",
       "      <td>0</td>\n",
       "    </tr>\n",
       "    <tr>\n",
       "      <th>26612</th>\n",
       "      <td>indian-citizens,short-connections,ams,delta-ai...</td>\n",
       "      <td>I am an Indian citizen (Indian Passport) who i...</td>\n",
       "      <td>There's not much you can do at this point to i...</td>\n",
       "      <td>4</td>\n",
       "      <td>0</td>\n",
       "    </tr>\n",
       "    <tr>\n",
       "      <th>26613</th>\n",
       "      <td>indian-citizens,short-connections,ams,delta-ai...</td>\n",
       "      <td>I am an Indian citizen (Indian Passport) who i...</td>\n",
       "      <td>That is indeed a close connection with an infa...</td>\n",
       "      <td>6</td>\n",
       "      <td>0</td>\n",
       "    </tr>\n",
       "    <tr>\n",
       "      <th>26614</th>\n",
       "      <td>indian-citizens,short-connections,ams,delta-ai...</td>\n",
       "      <td>I am an Indian citizen (Indian Passport) who i...</td>\n",
       "      <td>I agree with the other answers, they have valu...</td>\n",
       "      <td>1</td>\n",
       "      <td>0</td>\n",
       "    </tr>\n",
       "    <tr>\n",
       "      <th>26615</th>\n",
       "      <td>uk,international-travel,visa-refusals,tourist-...</td>\n",
       "      <td>I have had a UK tourist visa refusal 2 yrs ago...</td>\n",
       "      <td>\\nHowever if I get refused will it impact my c...</td>\n",
       "      <td>5</td>\n",
       "      <td>0</td>\n",
       "    </tr>\n",
       "  </tbody>\n",
       "</table>\n",
       "<p>26616 rows × 5 columns</p>\n",
       "</div>"
      ],
      "text/plain": [
       "                                                    Tags  \\\n",
       "0             russia,visas,china,mongolia,trans-siberian   \n",
       "1             russia,visas,china,mongolia,trans-siberian   \n",
       "2             russia,visas,china,mongolia,trans-siberian   \n",
       "3             russia,visas,china,mongolia,trans-siberian   \n",
       "4      safety,transportation,middle-east,war-zones,yemen   \n",
       "...                                                  ...   \n",
       "26611                          germany,residence-permits   \n",
       "26612  indian-citizens,short-connections,ams,delta-ai...   \n",
       "26613  indian-citizens,short-connections,ams,delta-ai...   \n",
       "26614  indian-citizens,short-connections,ams,delta-ai...   \n",
       "26615  uk,international-travel,visa-refusals,tourist-...   \n",
       "\n",
       "                                           Question Body  \\\n",
       "0      I'm planning on taking the trans-Siberian / tr...   \n",
       "1      I'm planning on taking the trans-Siberian / tr...   \n",
       "2      I'm planning on taking the trans-Siberian / tr...   \n",
       "3      I'm planning on taking the trans-Siberian / tr...   \n",
       "4      I have been wanting to travel to Socotra, Yeme...   \n",
       "...                                                  ...   \n",
       "26611  I am a non-EU citizen who recently moved to Ge...   \n",
       "26612  I am an Indian citizen (Indian Passport) who i...   \n",
       "26613  I am an Indian citizen (Indian Passport) who i...   \n",
       "26614  I am an Indian citizen (Indian Passport) who i...   \n",
       "26615  I have had a UK tourist visa refusal 2 yrs ago...   \n",
       "\n",
       "                                             Answer Body  AScore  \\\n",
       "0      You're very unlikely to get them rejected if y...      29   \n",
       "1      I was looking into the same journey recently a...      10   \n",
       "2      For the record, it is not necessary to go thro...       5   \n",
       "3      As I know, in Russia visas can be achieved in ...      12   \n",
       "4      The trees look amazing!\\nAccording to Wikitrav...       5   \n",
       "...                                                  ...     ...   \n",
       "26611  Having a Fiktionsbescheinigung does not invali...       0   \n",
       "26612  There's not much you can do at this point to i...       4   \n",
       "26613  That is indeed a close connection with an infa...       6   \n",
       "26614  I agree with the other answers, they have valu...       1   \n",
       "26615  \\nHowever if I get refused will it impact my c...       5   \n",
       "\n",
       "       IsAcceptedAnswer  \n",
       "0                     1  \n",
       "1                     0  \n",
       "2                     0  \n",
       "3                     0  \n",
       "4                     0  \n",
       "...                 ...  \n",
       "26611                 0  \n",
       "26612                 0  \n",
       "26613                 0  \n",
       "26614                 0  \n",
       "26615                 0  \n",
       "\n",
       "[26616 rows x 5 columns]"
      ]
     },
     "execution_count": 4,
     "metadata": {},
     "output_type": "execute_result"
    }
   ],
   "source": [
    "column_refined_df = dataset_df[[\"Tags\", \"Question Body\", \"Answer Body\", \"AScore\", \"IsAcceptedAnswer\"]]\n",
    "# column_refined_df\n",
    "max_score = np.max(dataset_df[\"AScore\"])\n",
    "# print(max_score)\n",
    "def remove_html_tags(row):\n",
    "    row[\"Question Body\"] = BeautifulSoup(row['Question Body'], 'html.parser').get_text()\n",
    "    row[\"Answer Body\"] = BeautifulSoup(row['Answer Body'], 'html.parser').get_text()\n",
    "    row[\"Tags\"] = \",\".join(row[\"Tags\"][1:-1].split(\"><\"))\n",
    "    # row[\"AScore\"] /= max_score\n",
    "    return row\n",
    "\n",
    "column_refined_df = column_refined_df.apply(remove_html_tags, axis=1)\n",
    "column_refined_df"
   ]
  },
  {
   "cell_type": "code",
   "execution_count": 5,
   "metadata": {},
   "outputs": [],
   "source": [
    "def get_len(q, a):\n",
    "    return len(q.split()) + len(a.split())\n",
    "\n",
    "lengths = column_refined_df.apply(lambda row: get_len(row[\"Question Body\"], row[\"Answer Body\"]), axis = 1)"
   ]
  },
  {
   "cell_type": "code",
   "execution_count": 6,
   "metadata": {},
   "outputs": [
    {
     "data": {
      "text/plain": [
       "count    26616.000000\n",
       "mean       276.787083\n",
       "std        192.302773\n",
       "min         28.000000\n",
       "25%        153.000000\n",
       "50%        228.000000\n",
       "75%        343.000000\n",
       "max       3830.000000\n",
       "dtype: float64"
      ]
     },
     "execution_count": 6,
     "metadata": {},
     "output_type": "execute_result"
    }
   ],
   "source": [
    "lengths.describe()"
   ]
  },
  {
   "cell_type": "code",
   "execution_count": 7,
   "metadata": {},
   "outputs": [],
   "source": [
    "# column_refined_df.groupby('Question Body')['IsAcceptedAnswer'].sum()[column_refined_df.groupby('Question Body')['IsAcceptedAnswer'].sum() > 1]"
   ]
  },
  {
   "cell_type": "code",
   "execution_count": 8,
   "metadata": {},
   "outputs": [
    {
     "data": {
      "text/plain": [
       "(array([2.6248e+04, 3.2500e+02, 3.6000e+01, 4.0000e+00, 2.0000e+00,\n",
       "        0.0000e+00, 0.0000e+00, 0.0000e+00, 0.0000e+00, 1.0000e+00]),\n",
       " array([-14. ,  43.3, 100.6, 157.9, 215.2, 272.5, 329.8, 387.1, 444.4,\n",
       "        501.7, 559. ]),\n",
       " <BarContainer object of 10 artists>)"
      ]
     },
     "execution_count": 8,
     "metadata": {},
     "output_type": "execute_result"
    },
    {
     "data": {
      "image/png": "[encoded data removed]",
      "text/plain": [
       "<Figure size 640x480 with 1 Axes>"
      ]
     },
     "metadata": {},
     "output_type": "display_data"
    }
   ],
   "source": [
    "plt.hist(column_refined_df['AScore'])"
   ]
  },
  {
   "cell_type": "code",
   "execution_count": 9,
   "metadata": {},
   "outputs": [
    {
     "data": {
      "text/plain": [
       "(2012, 5)"
      ]
     },
     "execution_count": 9,
     "metadata": {},
     "output_type": "execute_result"
    }
   ],
   "source": [
    "column_refined_df[column_refined_df['AScore'] <= 0].shape"
   ]
  },
  {
   "cell_type": "code",
   "execution_count": 10,
   "metadata": {},
   "outputs": [
    {
     "data": {
      "text/plain": [
       "(2035, 5)"
      ]
     },
     "execution_count": 10,
     "metadata": {},
     "output_type": "execute_result"
    }
   ],
   "source": [
    "column_refined_df[column_refined_df['AScore'] > 15].shape"
   ]
  },
  {
   "cell_type": "code",
   "execution_count": 11,
   "metadata": {},
   "outputs": [
    {
     "name": "stdout",
     "output_type": "stream",
     "text": [
      "Dataset({\n",
      "    features: ['Tags', 'Question Body', 'Answer Body', 'AScore', 'IsAcceptedAnswer'],\n",
      "    num_rows: 26616\n",
      "})\n"
     ]
    }
   ],
   "source": [
    "# Preprocessing\n",
    "hf_dataset = Dataset.from_pandas(column_refined_df)\n",
    "print(hf_dataset)"
   ]
  },
  {
   "cell_type": "code",
   "execution_count": 12,
   "metadata": {},
   "outputs": [
    {
     "data": {
      "text/plain": [
       "DatasetDict({\n",
       "    train: Dataset({\n",
       "        features: ['meta_tags', 'question', 'answer', 'vote_score', 'Accepted'],\n",
       "        num_rows: 19962\n",
       "    })\n",
       "    validation: Dataset({\n",
       "        features: ['meta_tags', 'question', 'answer', 'vote_score', 'Accepted'],\n",
       "        num_rows: 3327\n",
       "    })\n",
       "    test: Dataset({\n",
       "        features: ['meta_tags', 'question', 'answer', 'vote_score', 'Accepted'],\n",
       "        num_rows: 3327\n",
       "    })\n",
       "})"
      ]
     },
     "execution_count": 12,
     "metadata": {},
     "output_type": "execute_result"
    }
   ],
   "source": [
    "train_test_dict = hf_dataset.train_test_split(test_size=0.25)\n",
    "test_val_split = train_test_dict['test'].train_test_split(test_size=0.5)\n",
    "hf_dataset = DatasetDict({\n",
    "    'train': train_test_dict['train'],\n",
    "    'validation': test_val_split['train'],\n",
    "    'test': test_val_split['test']\n",
    "})\n",
    "hf_dataset = hf_dataset.rename_column(\"Question Body\", \"question\")\n",
    "hf_dataset = hf_dataset.rename_column(\"Answer Body\", \"answer\")\n",
    "hf_dataset = hf_dataset.rename_column(\"AScore\", \"vote_score\")\n",
    "hf_dataset = hf_dataset.rename_column(\"Tags\", \"meta_tags\")\n",
    "hf_dataset = hf_dataset.rename_column(\"IsAcceptedAnswer\", \"Accepted\")\n",
    "hf_dataset"
   ]
  },
  {
   "cell_type": "code",
   "execution_count": 13,
   "metadata": {},
   "outputs": [
    {
     "name": "stderr",
     "output_type": "stream",
     "text": [
      "Saving the dataset (0/1 shards):   0%|          | 0/19962 [00:00<?, ? examples/s]"
     ]
    },
    {
     "name": "stderr",
     "output_type": "stream",
     "text": [
      "Saving the dataset (1/1 shards): 100%|██████████| 19962/19962 [00:00<00:00, 46111.41 examples/s]\n",
      "Saving the dataset (1/1 shards): 100%|██████████| 3327/3327 [00:00<00:00, 59919.40 examples/s]\n",
      "Saving the dataset (1/1 shards): 100%|██████████| 3327/3327 [00:00<00:00, 59406.17 examples/s]\n"
     ]
    }
   ],
   "source": [
    "hf_dataset.save_to_disk(\"../Datasets/Visa_QA_V3\")"
   ]
  }
 ],
 "metadata": {
  "kernelspec": {
   "display_name": ".venv",
   "language": "python",
   "name": "python3"
  },
  "language_info": {
   "codemirror_mode": {
    "name": "ipython",
    "version": 3
   },
   "file_extension": ".py",
   "mimetype": "text/x-python",
   "name": "python",
   "nbconvert_exporter": "python",
   "pygments_lexer": "ipython3",
   "version": "3.10.2"
  }
 },
 "nbformat": 4,
 "nbformat_minor": 2
}
