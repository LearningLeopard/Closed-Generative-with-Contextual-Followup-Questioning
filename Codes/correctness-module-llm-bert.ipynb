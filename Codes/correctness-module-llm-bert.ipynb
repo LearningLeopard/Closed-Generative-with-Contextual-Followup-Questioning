{
 "cells": [
  {
   "cell_type": "code",
   "execution_count": 14,
   "metadata": {},
   "outputs": [],
   "source": [
    "from typing import Type"
   ]
  },
  {
   "cell_type": "code",
   "execution_count": 15,
   "metadata": {},
   "outputs": [],
   "source": [
    "from transformers import AutoTokenizer, AutoModel, AutoConfig, TrainingArguments, Trainer\n",
    "import torch.nn as nn\n",
    "from torch.optim import AdamW\n",
    "from torch import Tensor\n",
    "from datasets import load_from_disk\n",
    "import matplotlib.pyplot as plt"
   ]
  },
  {
   "cell_type": "code",
   "execution_count": 16,
   "metadata": {},
   "outputs": [],
   "source": [
    "CHECKPOINT = \"google-bert/bert-large-cased-whole-word-masking-finetuned-squad\"\n",
    "# Model card: https://huggingface.co/google-bert/bert-large-cased-whole-word-masking-finetuned-squad"
   ]
  },
  {
   "cell_type": "code",
   "execution_count": 17,
   "metadata": {},
   "outputs": [],
   "source": [
    "class CorrectnessModuleLLM(nn.Module):\n",
    "    def __init__(self: Type[\"CorrectnessModuleLLM\"],\n",
    "                 checkpoint: str) -> None:\n",
    "        super(CorrectnessModuleLLM, self).__init()\n",
    "        self.embedding_body = AutoModel.from_pretrained(checkpoint, \n",
    "                                                        config=AutoConfig.from_pretrained(checkpoint,\n",
    "                                                                                          output_attention=True,\n",
    "                                                                                          output_hidden_states=True))\n",
    "        self.logit_transform = nn.Linear(in_features = 1024, # This should be somehow dynamic. Can be with the help of above model's config variable\n",
    "                                         out_features = 1,\n",
    "                                         bias=True)\n",
    "        self.output_transform = nn.Sigmoid()\n",
    "        return\n",
    "    \n",
    "    def forward(self: Type[\"CorrectnessModuleLLM\"],\n",
    "                input_ids: Tensor,\n",
    "                attention_mask) -> Tensor:\n",
    "        llm_embeddings = self.embedding_body(input_ids=input_ids,\n",
    "                                             attention_mask=attention_mask)\n",
    "        cls_token_output = llm_embeddings.hidden_states[0]\n",
    "        logits = self.logit_transform(cls_token_output)\n",
    "        output_prob = self.output_transform(logits)\n",
    "        return output_prob"
   ]
  },
  {
   "cell_type": "code",
   "execution_count": 18,
   "metadata": {},
   "outputs": [],
   "source": [
    "## Tokenizer code\n",
    "checkpoint_model_tokenizer = AutoTokenizer.from_pretrained(CHECKPOINT, return_tensors='pt')\n",
    "\n",
    "def tokenize_and_align_dataset(sample):\n",
    "    question_string = sample['question']\n",
    "    answer_string = sample[\"answer\"]\n",
    "    final_input_string = f\"{question_string} [SEP] {answer_string}\"\n",
    "    tokenized_inputs = checkpoint_model_tokenizer(final_input_string, add_special_tokens=True)\n",
    "    return tokenized_inputs\n"
   ]
  },
  {
   "cell_type": "code",
   "execution_count": null,
   "metadata": {},
   "outputs": [
    {
     "data": {
      "text/plain": [
       "DatasetDict({\n",
       "    train: Dataset({\n",
       "        features: ['meta_tags', 'question', 'answer', 'target_score'],\n",
       "        num_rows: 15789\n",
       "    })\n",
       "    test: Dataset({\n",
       "        features: ['meta_tags', 'question', 'answer', 'target_score'],\n",
       "        num_rows: 5264\n",
       "    })\n",
       "})"
      ]
     },
     "execution_count": 19,
     "metadata": {},
     "output_type": "execute_result"
    }
   ],
   "source": [
    "# Importing dataset\n",
    "visa_qa_dataset = load_from_disk(\"../Datasets/Visa_QA_V3\")\n",
    "visa_qa_dataset"
   ]
  },
  {
   "cell_type": "code",
   "execution_count": 20,
   "metadata": {},
   "outputs": [
    {
     "name": "stderr",
     "output_type": "stream",
     "text": [
      "Map:   0%|          | 0/15789 [00:00<?, ? examples/s]"
     ]
    },
    {
     "name": "stderr",
     "output_type": "stream",
     "text": [
      "Token indices sequence length is longer than the specified maximum sequence length for this model (658 > 512). Running this sequence through the model will result in indexing errors\n",
      "Map: 100%|██████████| 15789/15789 [00:32<00:00, 487.43 examples/s]\n",
      "Map: 100%|██████████| 5264/5264 [00:11<00:00, 468.04 examples/s]\n"
     ]
    },
    {
     "data": {
      "text/plain": [
       "DatasetDict({\n",
       "    train: Dataset({\n",
       "        features: ['meta_tags', 'question', 'answer', 'target_score', 'input_ids', 'token_type_ids', 'attention_mask'],\n",
       "        num_rows: 15789\n",
       "    })\n",
       "    test: Dataset({\n",
       "        features: ['meta_tags', 'question', 'answer', 'target_score', 'input_ids', 'token_type_ids', 'attention_mask'],\n",
       "        num_rows: 5264\n",
       "    })\n",
       "})"
      ]
     },
     "execution_count": 20,
     "metadata": {},
     "output_type": "execute_result"
    }
   ],
   "source": [
    "preprocessed_visa_qa = visa_qa_dataset.map(tokenize_and_align_dataset, batched=False)\n",
    "preprocessed_visa_qa"
   ]
  },
  {
   "cell_type": "code",
   "execution_count": null,
   "metadata": {},
   "outputs": [
    {
     "name": "stderr",
     "output_type": "stream",
     "text": [
      "Map:  27%|██▋       | 4307/15789 [00:03<00:09, 1156.35 examples/s]"
     ]
    }
   ],
   "source": [
    "all_string_lens = []\n",
    "all_token_lens = []\n",
    "def get_lens(sample):\n",
    "    total_string_len = len(sample['question'].split()) + len(sample['answer'].split())\n",
    "    all_string_lens.append(total_string_len)\n",
    "    all_token_lens.append(len(sample['input_ids']))\n",
    "    return sample\n",
    "\n",
    "preprocessed_visa_qa['train'].map(get_lens)\n"
   ]
  },
  {
   "cell_type": "code",
   "execution_count": null,
   "metadata": {},
   "outputs": [
    {
     "name": "stdout",
     "output_type": "stream",
     "text": [
      "3830\n"
     ]
    },
    {
     "data": {
      "image/png": "[encoded data removed]",
      "text/plain": [
       "<Figure size 640x480 with 1 Axes>"
      ]
     },
     "metadata": {},
     "output_type": "display_data"
    }
   ],
   "source": [
    "plt.hist(all_string_lens)\n",
    "print(max(all_string_lens))\n",
    "plt.show()"
   ]
  },
  {
   "cell_type": "code",
   "execution_count": null,
   "metadata": {},
   "outputs": [
    {
     "name": "stdout",
     "output_type": "stream",
     "text": [
      "372\n"
     ]
    },
    {
     "data": {
      "image/png": "[encoded data removed]",
      "text/plain": [
       "<Figure size 640x480 with 1 Axes>"
      ]
     },
     "metadata": {},
     "output_type": "display_data"
    }
   ],
   "source": [
    "plt.hist(all_token_lens)\n",
    "print(len([x for x in all_token_lens if x > 1024]))\n",
    "plt.show()"
   ]
  },
  {
   "cell_type": "markdown",
   "metadata": {},
   "source": [
    "Since only 372 will be dropped, we will be dropping rows whose input ID lens are greater than 1024"
   ]
  },
  {
   "cell_type": "code",
   "execution_count": null,
   "metadata": {},
   "outputs": [
    {
     "name": "stderr",
     "output_type": "stream",
     "text": [
      "Filter: 100%|██████████| 5264/5264 [00:02<00:00, 1931.24 examples/s]\n"
     ]
    },
    {
     "data": {
      "text/plain": [
       "DatasetDict({\n",
       "    train: Dataset({\n",
       "        features: ['meta_tags', 'question', 'answer', 'target_score', 'input_ids', 'token_type_ids', 'attention_mask', 'score'],\n",
       "        num_rows: 15417\n",
       "    })\n",
       "    test: Dataset({\n",
       "        features: ['meta_tags', 'question', 'answer', 'target_score', 'input_ids', 'token_type_ids', 'attention_mask', 'score'],\n",
       "        num_rows: 5151\n",
       "    })\n",
       "})"
      ]
     },
     "execution_count": 13,
     "metadata": {},
     "output_type": "execute_result"
    }
   ],
   "source": [
    "filtered_preprocessed_visa_qa = preprocessed_visa_qa.filter(lambda x: len(x['input_ids']) <= 1024)\n",
    "filtered_preprocessed_visa_qa"
   ]
  },
  {
   "cell_type": "code",
   "execution_count": null,
   "metadata": {},
   "outputs": [],
   "source": [
    "optimizer = AdamW(POS_tagger.parameters(), lr=5e-5)\n",
    "\n",
    "num_epochs = 1\n",
    "num_training_steps = num_epochs * len(train_dataloader)\n",
    "lr_scheduler = get_scheduler(\n",
    "    \"linear\",\n",
    "    optimizer=optimizer,\n",
    "    num_warmup_steps=0,\n",
    "    num_training_steps=num_training_steps,\n",
    ")\n",
    "print(num_training_steps)\n",
    "\n",
    "\n",
    "\n",
    "progress_bar_train = tqdm(range(num_training_steps))\n",
    "progress_bar_eval = tqdm(range(num_epochs * len(eval_dataloader)))\n",
    "\n",
    "\n",
    "for epoch in range(num_epochs):\n",
    "    POS_tagger.train()\n",
    "    for batch in train_dataloader:\n",
    "        batch = {k: v for k, v in batch.items()}\n",
    "        outputs = POS_tagger(**batch)\n",
    "        loss = outputs.loss\n",
    "        loss.backward()\n",
    "\n",
    "        optimizer.step()\n",
    "        lr_scheduler.step()\n",
    "        optimizer.zero_grad()\n",
    "        progress_bar_train.update(1)\n",
    "\n",
    "    POS_tagger.eval()\n",
    "    for batch in eval_dataloader:\n",
    "        batch = {k: v for k, v in batch.items()}\n",
    "        with torch.no_grad():\n",
    "            outputs = POS_tagger(**batch)\n",
    "\n",
    "        logits = outputs.logits\n",
    "        predictions = torch.argmax(logits, dim=-1)\n",
    "        # print(predictions.shape, \"batch:\", batch['labels'].shape)\n",
    "        labels = batch['labels']\n",
    "        true_predictions = [\n",
    "            [labels_encoder.int2str(p.item()) for (\n",
    "                p, l) in zip(prediction, label) if l != -100]\n",
    "            for prediction, label in zip(predictions, labels)\n",
    "        ]\n",
    "        true_labels = [\n",
    "            [labels_encoder.int2str(l.item()) for (\n",
    "                p, l) in zip(prediction, label) if l != -100]\n",
    "            for prediction, label in zip(predictions, labels)\n",
    "        ]\n",
    "        # for sentence_true_labels, sentence_true_predictions in zip(true_labels, true_predictions):\n",
    "        metric.add_batch(predictions=true_predictions, references=true_labels)\n",
    "        progress_bar_eval.update(1)\n",
    "    print(\"===================== Epoch: \", epoch, \" =====================\")\n",
    "    print(metric.compute())"
   ]
  }
 ],
 "metadata": {
  "kernelspec": {
   "display_name": ".venv",
   "language": "python",
   "name": "python3"
  },
  "language_info": {
   "codemirror_mode": {
    "name": "ipython",
    "version": 3
   },
   "file_extension": ".py",
   "mimetype": "text/x-python",
   "name": "python",
   "nbconvert_exporter": "python",
   "pygments_lexer": "ipython3",
   "version": "3.10.2"
  }
 },
 "nbformat": 4,
 "nbformat_minor": 2
}
