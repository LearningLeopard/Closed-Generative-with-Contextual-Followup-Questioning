{
 "cells": [
  {
   "cell_type": "code",
   "execution_count": 1,
   "metadata": {},
   "outputs": [],
   "source": [
    "from typing import Type"
   ]
  },
  {
   "cell_type": "code",
   "execution_count": 2,
   "metadata": {},
   "outputs": [
    {
     "name": "stderr",
     "output_type": "stream",
     "text": [
      "d:\\Acads\\Sem - 1\\CS 505 Natural Language Processing\\Research Project Repo\\.venv\\lib\\site-packages\\tqdm\\auto.py:21: TqdmWarning: IProgress not found. Please update jupyter and ipywidgets. See https://ipywidgets.readthedocs.io/en/stable/user_install.html\n",
      "  from .autonotebook import tqdm as notebook_tqdm\n"
     ]
    }
   ],
   "source": [
    "from transformers import AutoTokenizer, AutoModel, AutoConfig, DataCollatorWithPadding, get_scheduler\n",
    "from torch.utils.data import DataLoader\n",
    "import torch.nn as nn\n",
    "from torch.nn import MSELoss\n",
    "from torch.optim import AdamW\n",
    "from torch import Tensor\n",
    "from datasets import load_from_disk\n",
    "import matplotlib.pyplot as plt\n",
    "from tqdm.auto import tqdm\n",
    "import torch\n",
    "import numpy as np"
   ]
  },
  {
   "cell_type": "code",
   "execution_count": 3,
   "metadata": {},
   "outputs": [],
   "source": [
    "CHECKPOINT = \"google-bert/bert-large-cased-whole-word-masking-finetuned-squad\"\n",
    "# Model card: https://huggingface.co/google-bert/bert-large-cased-whole-word-masking-finetuned-squad"
   ]
  },
  {
   "cell_type": "code",
   "execution_count": 4,
   "metadata": {},
   "outputs": [],
   "source": [
    "## Tokenizer code\n",
    "checkpoint_model_tokenizer = AutoTokenizer.from_pretrained(CHECKPOINT, return_tensors='pt')\n",
    "\n",
    "def tokenize_and_align_dataset(sample):\n",
    "    question_string = sample['question']\n",
    "    answer_string = sample[\"answer\"]\n",
    "    final_input_string = f\"{question_string} [SEP] {answer_string}\"\n",
    "    tokenized_inputs = checkpoint_model_tokenizer(final_input_string, add_special_tokens=True)\n",
    "    return tokenized_inputs\n"
   ]
  },
  {
   "cell_type": "code",
   "execution_count": 5,
   "metadata": {},
   "outputs": [
    {
     "data": {
      "text/plain": [
       "DatasetDict({\n",
       "    train: Dataset({\n",
       "        features: ['meta_tags', 'question', 'answer', 'vote_score', 'Accepted'],\n",
       "        num_rows: 19962\n",
       "    })\n",
       "    validation: Dataset({\n",
       "        features: ['meta_tags', 'question', 'answer', 'vote_score', 'Accepted'],\n",
       "        num_rows: 3327\n",
       "    })\n",
       "    test: Dataset({\n",
       "        features: ['meta_tags', 'question', 'answer', 'vote_score', 'Accepted'],\n",
       "        num_rows: 3327\n",
       "    })\n",
       "})"
      ]
     },
     "execution_count": 5,
     "metadata": {},
     "output_type": "execute_result"
    }
   ],
   "source": [
    "# Importing dataset\n",
    "visa_qa_dataset = load_from_disk(\"../Datasets/Visa_QA_V3\")\n",
    "visa_qa_dataset"
   ]
  },
  {
   "cell_type": "code",
   "execution_count": 6,
   "metadata": {},
   "outputs": [
    {
     "name": "stderr",
     "output_type": "stream",
     "text": [
      "Map:   0%|          | 0/3327 [00:00<?, ? examples/s]Token indices sequence length is longer than the specified maximum sequence length for this model (1340 > 512). Running this sequence through the model will result in indexing errors\n",
      "Map: 100%|██████████| 3327/3327 [00:04<00:00, 772.11 examples/s]\n"
     ]
    },
    {
     "data": {
      "text/plain": [
       "DatasetDict({\n",
       "    train: Dataset({\n",
       "        features: ['meta_tags', 'question', 'answer', 'vote_score', 'Accepted', 'input_ids', 'token_type_ids', 'attention_mask'],\n",
       "        num_rows: 19962\n",
       "    })\n",
       "    validation: Dataset({\n",
       "        features: ['meta_tags', 'question', 'answer', 'vote_score', 'Accepted', 'input_ids', 'token_type_ids', 'attention_mask'],\n",
       "        num_rows: 3327\n",
       "    })\n",
       "    test: Dataset({\n",
       "        features: ['meta_tags', 'question', 'answer', 'vote_score', 'Accepted', 'input_ids', 'token_type_ids', 'attention_mask'],\n",
       "        num_rows: 3327\n",
       "    })\n",
       "})"
      ]
     },
     "execution_count": 6,
     "metadata": {},
     "output_type": "execute_result"
    }
   ],
   "source": [
    "preprocessed_visa_qa = visa_qa_dataset.map(tokenize_and_align_dataset, batched=False)\n",
    "preprocessed_visa_qa"
   ]
  },
  {
   "cell_type": "code",
   "execution_count": 7,
   "metadata": {},
   "outputs": [
    {
     "data": {
      "text/plain": [
       "Dataset({\n",
       "    features: ['meta_tags', 'question', 'answer', 'vote_score', 'Accepted', 'input_ids', 'token_type_ids', 'attention_mask'],\n",
       "    num_rows: 19962\n",
       "})"
      ]
     },
     "execution_count": 7,
     "metadata": {},
     "output_type": "execute_result"
    }
   ],
   "source": [
    "all_string_lens = []\n",
    "all_token_lens = []\n",
    "def get_lens(sample):\n",
    "    total_string_len = len(sample['question'].split()) + len(sample['answer'].split())\n",
    "    \n",
    "    all_string_lens.append(total_string_len)\n",
    "    all_token_lens.append(len(sample['input_ids']))\n",
    "    return sample\n",
    "\n",
    "preprocessed_visa_qa['train'].map(get_lens)\n"
   ]
  },
  {
   "cell_type": "code",
   "execution_count": 8,
   "metadata": {},
   "outputs": [
    {
     "ename": "ValueError",
     "evalue": "max() arg is an empty sequence",
     "output_type": "error",
     "traceback": [
      "\u001b[1;31m---------------------------------------------------------------------------\u001b[0m",
      "\u001b[1;31mValueError\u001b[0m                                Traceback (most recent call last)",
      "Cell \u001b[1;32mIn[8], line 2\u001b[0m\n\u001b[0;32m      1\u001b[0m plt\u001b[38;5;241m.\u001b[39mhist(all_string_lens)\n\u001b[1;32m----> 2\u001b[0m \u001b[38;5;28mprint\u001b[39m(\u001b[38;5;28;43mmax\u001b[39;49m\u001b[43m(\u001b[49m\u001b[43mall_string_lens\u001b[49m\u001b[43m)\u001b[49m)\n\u001b[0;32m      3\u001b[0m plt\u001b[38;5;241m.\u001b[39mshow()\n",
      "\u001b[1;31mValueError\u001b[0m: max() arg is an empty sequence"
     ]
    },
    {
     "data": {
      "image/png": "[encoded data removed]",
      "text/plain": [
       "<Figure size 640x480 with 1 Axes>"
      ]
     },
     "metadata": {},
     "output_type": "display_data"
    }
   ],
   "source": [
    "plt.hist(all_string_lens)\n",
    "print(max(all_string_lens))\n",
    "plt.show()"
   ]
  },
  {
   "cell_type": "code",
   "execution_count": null,
   "metadata": {},
   "outputs": [
    {
     "name": "stdout",
     "output_type": "stream",
     "text": [
      "3430\n"
     ]
    },
    {
     "data": {
      "image/png": "[encoded data removed]",
      "text/plain": [
       "<Figure size 640x480 with 1 Axes>"
      ]
     },
     "metadata": {},
     "output_type": "display_data"
    }
   ],
   "source": [
    "plt.hist(all_token_lens)\n",
    "print(len([x for x in all_token_lens if x > 512]))\n",
    "plt.show()"
   ]
  },
  {
   "cell_type": "markdown",
   "metadata": {},
   "source": [
    "Since only 3430 will be dropped, we will be dropping rows whose input ID lens are greater than 512"
   ]
  },
  {
   "cell_type": "code",
   "execution_count": 9,
   "metadata": {},
   "outputs": [
    {
     "name": "stderr",
     "output_type": "stream",
     "text": [
      "Filter:   0%|          | 0/3327 [00:00<?, ? examples/s]"
     ]
    },
    {
     "name": "stderr",
     "output_type": "stream",
     "text": [
      "Filter: 100%|██████████| 3327/3327 [00:01<00:00, 1682.48 examples/s]\n"
     ]
    },
    {
     "data": {
      "text/plain": [
       "DatasetDict({\n",
       "    train: Dataset({\n",
       "        features: ['meta_tags', 'question', 'answer', 'vote_score', 'Accepted', 'input_ids', 'token_type_ids', 'attention_mask'],\n",
       "        num_rows: 16532\n",
       "    })\n",
       "    validation: Dataset({\n",
       "        features: ['meta_tags', 'question', 'answer', 'vote_score', 'Accepted', 'input_ids', 'token_type_ids', 'attention_mask'],\n",
       "        num_rows: 2745\n",
       "    })\n",
       "    test: Dataset({\n",
       "        features: ['meta_tags', 'question', 'answer', 'vote_score', 'Accepted', 'input_ids', 'token_type_ids', 'attention_mask'],\n",
       "        num_rows: 2725\n",
       "    })\n",
       "})"
      ]
     },
     "execution_count": 9,
     "metadata": {},
     "output_type": "execute_result"
    }
   ],
   "source": [
    "filtered_preprocessed_visa_qa = preprocessed_visa_qa.filter(lambda x: len(x['input_ids']) <= 512)\n",
    "filtered_preprocessed_visa_qa.set_format(type='torch',\n",
    "                                          columns=['input_ids', 'attention_mask', 'token_type_ids', 'vote_score'])\n",
    "filtered_preprocessed_visa_qa"
   ]
  },
  {
   "cell_type": "code",
   "execution_count": 10,
   "metadata": {},
   "outputs": [],
   "source": [
    "## Data Collator for dynamic input adjustment\n",
    "data_collator = DataCollatorWithPadding(checkpoint_model_tokenizer)\n",
    "\n",
    "train_dataloader = DataLoader(filtered_preprocessed_visa_qa['train'].select(range(32)),\n",
    "                              shuffle=True,\n",
    "                              batch_size=32,\n",
    "                              collate_fn=data_collator\n",
    "                              )\n",
    "\n",
    "val_dataloader = DataLoader(filtered_preprocessed_visa_qa['validation'].select(range(1)),\n",
    "                              shuffle=True,\n",
    "                              batch_size=1,\n",
    "                              collate_fn=data_collator\n",
    "                              )"
   ]
  },
  {
   "cell_type": "code",
   "execution_count": 11,
   "metadata": {},
   "outputs": [],
   "source": [
    "class CorrectnessModuleLLM(nn.Module):\n",
    "    def __init__(self: Type[\"CorrectnessModuleLLM\"],\n",
    "                 checkpoint: str) -> None:\n",
    "        super(CorrectnessModuleLLM, self).__init__()\n",
    "        self.embedding_body = AutoModel.from_pretrained(checkpoint, \n",
    "                                                        config=AutoConfig.from_pretrained(checkpoint,\n",
    "                                                                                          output_attention=True,\n",
    "                                                                                          output_hidden_states=False))\n",
    "        self.logit_transform = nn.Linear(in_features = 1024, \n",
    "                                         out_features = 1,\n",
    "                                         bias=True)\n",
    "        # self.output_transform = nn.Sigmoid()\n",
    "        return\n",
    "    \n",
    "    def forward(self: Type[\"CorrectnessModuleLLM\"],\n",
    "                input_ids: Tensor,\n",
    "                attention_mask: Tensor,\n",
    "                token_type_ids) -> Tensor:\n",
    "        llm_embeddings = self.embedding_body(input_ids=input_ids,\n",
    "                                             attention_mask=attention_mask,\n",
    "                                             token_type_ids = token_type_ids)\n",
    "        cls_token_output = llm_embeddings.last_hidden_state[0]\n",
    "        logits = self.logit_transform(cls_token_output)\n",
    "        # output_prob = self.output_transform(logits)\n",
    "        return logits\n",
    "\n",
    "    def save_pretrained(self, save_directory):\n",
    "        # Save the base model and configuration\n",
    "        self.embedding_body.save_pretrained(save_directory)\n",
    "        # Save the custom layers' weights\n",
    "        torch.save(self.logit_transform.state_dict(), f\"{save_directory}/logit_transform.pt\")\n",
    "        # torch.save(self.output_transform.state_dict(), f\"{save_directory}/output_transform.pt\")\n",
    "    \n",
    "    @classmethod\n",
    "    def from_pretrained(cls, save_directory, *model_args, **kwargs):\n",
    "        # Load the configuration\n",
    "        config = AutoConfig.from_pretrained(save_directory)\n",
    "        config.checkpoint = save_directory  # Ensure checkpoint is set\n",
    "        model = cls(config)\n",
    "        # Load base model weights\n",
    "        model.embedding_body = AutoModel.from_pretrained(save_directory, config=config)\n",
    "        # Load custom layers' weights\n",
    "        model.logit_transform.load_state_dict(torch.load(f\"{save_directory}/logit_transform.pt\"))\n",
    "        # model.output_transform.load_state_dict(torch.load(f\"{save_directory}/output_transform.pt\"))\n",
    "        return model"
   ]
  },
  {
   "cell_type": "code",
   "execution_count": null,
   "metadata": {},
   "outputs": [
    {
     "ename": "",
     "evalue": "",
     "output_type": "error",
     "traceback": [
      "\u001b[1;31mThe Kernel crashed while executing code in the current cell or a previous cell. \n",
      "\u001b[1;31mPlease review the code in the cell(s) to identify a possible cause of the failure. \n",
      "\u001b[1;31mClick <a href='https://aka.ms/vscodeJupyterKernelCrash'>here</a> for more info. \n",
      "\u001b[1;31mView Jupyter <a href='command:jupyter.viewOutput'>log</a> for further details."
     ]
    }
   ],
   "source": [
    "correctness_model = CorrectnessModuleLLM(checkpoint=CHECKPOINT)"
   ]
  },
  {
   "cell_type": "code",
   "execution_count": null,
   "metadata": {},
   "outputs": [
    {
     "name": "stdout",
     "output_type": "stream",
     "text": [
      "1\n"
     ]
    },
    {
     "name": "stderr",
     "output_type": "stream",
     "text": [
      "  0%|          | 0/1 [00:00<?, ?it/s]"
     ]
    }
   ],
   "source": [
    "optimizer = AdamW(correctness_model.parameters(), lr=5e-5)\n",
    "\n",
    "num_epochs = 1\n",
    "num_training_steps = num_epochs * len(train_dataloader)\n",
    "lr_scheduler = get_scheduler(\n",
    "    \"linear\",\n",
    "    optimizer=optimizer,\n",
    "    num_warmup_steps=0,\n",
    "    num_training_steps=num_training_steps,\n",
    ")\n",
    "print(num_training_steps)\n",
    "\n",
    "progress_bar_train = tqdm(range(num_training_steps))\n",
    "progress_bar_eval = tqdm(range(num_epochs * len(val_dataloader)))\n",
    "\n",
    "criterion = MSELoss()\n",
    "training_loss_history = []\n",
    "validation_loss_history = []\n",
    "for epoch in range(num_epochs):\n",
    "    train_loss_accum = 0\n",
    "    val_loss_accum = 0\n",
    "    correctness_model.train()\n",
    "    for batch in train_dataloader:\n",
    "        batch = {k: v for k, v in batch.items()}\n",
    "        votes_prediction = correctness_model(**{k: v for k, v in batch.items() if k in ['input_ids', 'attention_mask', 'token_type_ids']})\n",
    "        train_loss = criterion(votes_prediction, batch['vote_score'])\n",
    "        train_loss_accum += train_loss\n",
    "        train_loss.backward()\n",
    "        optimizer.step()\n",
    "        lr_scheduler.step()\n",
    "        optimizer.zero_grad()\n",
    "        progress_bar_train.update(1)\n",
    "\n",
    "    correctness_model.eval()\n",
    "    for batch in val_dataloader:\n",
    "        batch = {k: v for k, v in batch.items()}\n",
    "        with torch.no_grad():\n",
    "            outputs = correctness_model(**{k: v for k, v in batch.items() if k in ['input_ids', 'attention_mask', 'token_type_ids']})\n",
    "        val_loss = criterion(votes_prediction, batch['vote_score'])\n",
    "        val_loss_accum += val_loss\n",
    "\n",
    "        progress_bar_eval.update(1)\n",
    "    correctness_model.save_pretrained(f\"../Model_Checkpoints/correct-llm-bert-checkpoint-epoch-{epoch}\")\n",
    "    print(\"====== Epoch: \", epoch, \" ======\")\n",
    "    print(f\"Training RMSE: {np.sqrt(train_loss_accum)}\")\n",
    "    print(f\"Validation RMSE: {np.sqrt(val_loss_accum)}\")\n",
    "    training_loss_history.append(train_loss_accum)\n",
    "    validation_loss_history.append(val_loss_accum)"
   ]
  }
 ],
 "metadata": {
  "kernelspec": {
   "display_name": ".venv",
   "language": "python",
   "name": "python3"
  },
  "language_info": {
   "codemirror_mode": {
    "name": "ipython",
    "version": 3
   },
   "file_extension": ".py",
   "mimetype": "text/x-python",
   "name": "python",
   "nbconvert_exporter": "python",
   "pygments_lexer": "ipython3",
   "version": "3.10.2"
  }
 },
 "nbformat": 4,
 "nbformat_minor": 2
}
