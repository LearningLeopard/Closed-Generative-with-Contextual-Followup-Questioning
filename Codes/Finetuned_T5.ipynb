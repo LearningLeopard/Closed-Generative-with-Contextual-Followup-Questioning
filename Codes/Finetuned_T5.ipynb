{
 "cells": [
  {
   "cell_type": "code",
   "execution_count": 4,
   "id": "a7640a38-499f-40ed-aaa8-3d2ad00f7a99",
   "metadata": {},
   "outputs": [],
   "source": [
    "import json\n",
    "from datasets import Dataset\n",
    "import pandas as pd\n",
    "\n",
    "# Load the data from your JSON file\n",
    "with open(\"data.json\", \"r\") as f:\n",
    "    data = json.load(f)\n"
   ]
  },
  {
   "cell_type": "code",
   "execution_count": 5,
   "id": "a81091a4-18e0-4884-8333-c7c0f466e270",
   "metadata": {},
   "outputs": [
    {
     "name": "stdout",
     "output_type": "stream",
     "text": [
      "                              title  \\\n",
      "0                       Green Cards   \n",
      "1                       Case Status   \n",
      "2     Immigration Forms & Resources   \n",
      "3  Immigration News & USCIS Updates   \n",
      "4                              DACA   \n",
      "\n",
      "                                               links  \n",
      "0  [{'text': 'Form I-407 and Voluntary Green Card...  \n",
      "1  [{'text': 'How To Track Your USCIS Application...  \n",
      "2  [{'text': 'All About USCIS Form I-693: Report ...  \n",
      "3  [{'text': 'SCOTUS Hearing on Same-Sex Marriage...  \n",
      "4  [{'text': 'How Can You Prove Continuous Reside...  \n"
     ]
    }
   ],
   "source": [
    "#print(json.dumps(data, indent=2)) \n",
    "#print(json.dumps(data[:5], indent=2)) \n",
    "\n",
    "df = pd.DataFrame(data[:5])  # Display the first 5 records in tabular format\n",
    "print(df)"
   ]
  },
  {
   "cell_type": "code",
   "execution_count": 6,
   "id": "129874f2-a0ac-428e-8836-de3b682978ca",
   "metadata": {},
   "outputs": [],
   "source": [
    "# Create a DataFrame for easier manipulation\n",
    "df = pd.DataFrame(data)\n",
    "\n",
    "# Flatten the 'links' column and create question-answer pairs\n",
    "qa_data = []\n",
    "\n",
    "'''' Just Ques Ans Pairs\n",
    "for entry in data:\n",
    "    for link in entry['links']:  # Iterate over each link in the 'links' field\n",
    "        for qa_pair in link.get('qa_data', []):  # Extract question-answer pairs\n",
    "            qa_data.append({\n",
    "                'question': qa_pair['question'],  # Question\n",
    "                'answer': qa_pair['answer']  # Answer\n",
    "            })\n",
    "\n",
    "# Create a Hugging Face Dataset from the extracted question-answer pairs\n",
    "dataset = Dataset.from_dict({\n",
    "    'question': [x['question'] for x in qa_data],\n",
    "    'answer': [x['answer'] for x in qa_data]\n",
    "})'''\n",
    "\n",
    "for entry in data:\n",
    "    category = entry['title']  # Use 'title' as the category for each Q&A pair\n",
    "    for link in entry['links']:  # Iterate over each link in the 'links' field\n",
    "        for qa_pair in link.get('qa_data', []):  # Extract question-answer pairs\n",
    "            qa_data.append({\n",
    "                'category': category,  # Add the category (title)\n",
    "                'question': qa_pair['question'],  # Question\n",
    "                'answer': qa_pair['answer']  # Answer\n",
    "            })\n",
    "\n",
    "# Create a Hugging Face Dataset from the extracted question-answer pairs\n",
    "dataset = Dataset.from_dict({\n",
    "    'category': [x['category'] for x in qa_data],  # Adding the 'category' field\n",
    "    'question': [x['question'] for x in qa_data],\n",
    "    'answer': [x['answer'] for x in qa_data]\n",
    "})\n"
   ]
  },
  {
   "cell_type": "code",
   "execution_count": 44,
   "id": "bea9fae1-21d1-4647-9a29-56894e0ebfa2",
   "metadata": {},
   "outputs": [
    {
     "name": "stdout",
     "output_type": "stream",
     "text": [
      "{'category': 'Green Cards', 'question': 'What Is Green Card Abandonment?', 'answer': 'Green card abandonment is also known as an abandonment of lawful permanent resident status or LPR status. It can occur in two ways under immigration law: You give up your permanent resident card voluntarily, orU.S. Citizenship and Immigration Services (USCIS) takes your green card from you.'}\n",
      "{'category': 'Green Cards', 'question': 'Voluntary Green Card Abandonment', 'answer': 'Green card abandonment is also known as an abandonment of lawful permanent resident status or LPR status. It can occur in two ways under immigration law: You give up your permanent resident card voluntarily, orU.S. Citizenship and Immigration Services (USCIS) takes your green card from you. Some green card holders voluntarily give up their lawful permanent resident status. This most commonly happens for tax or travel reasons. As a legal permanent resident of the United States, you must file U.S. income tax returns. Usually, you also have to pay taxes. Some people choose to abandon their green cards to stop paying taxes to the United States. If you’re considering this, you need to understand how it affects your tax and immigration status. To that end, you may want to consult a tax adviser and immigration lawyer. If you spend more than a year abroad and don’t intend to return to permanently live in the United States, you may also want to abandon your green card. Agreen cardis for someone who wants to live in the United States permanently. If you’re still interested in visiting the United States while primarily residing abroad, you should consider entering with anonimmigrant visa(B-1 or B-2).'}\n",
      "{'category': 'Green Cards', 'question': 'Involuntary Green Card Abandonment', 'answer': 'Green card abandonment is also known as an abandonment of lawful permanent resident status or LPR status. It can occur in two ways under immigration law: You give up your permanent resident card voluntarily, orU.S. Citizenship and Immigration Services (USCIS) takes your green card from you. Some green card holders voluntarily give up their lawful permanent resident status. This most commonly happens for tax or travel reasons. As a legal permanent resident of the United States, you must file U.S. income tax returns. Usually, you also have to pay taxes. Some people choose to abandon their green cards to stop paying taxes to the United States. If you’re considering this, you need to understand how it affects your tax and immigration status. To that end, you may want to consult a tax adviser and immigration lawyer. If you spend more than a year abroad and don’t intend to return to permanently live in the United States, you may also want to abandon your green card. Agreen cardis for someone who wants to live in the United States permanently. If you’re still interested in visiting the United States while primarily residing abroad, you should consider entering with anonimmigrant visa(B-1 or B-2). Involuntary abandonment of LPR status is more common than voluntary abandonment. If you live abroad for longer than one year and no longer have ties to the United States, you may face involuntary green card abandonment. A U.S. Customs and Border Protection (CBP) officer at a United States port of entry usually determines if you abandoned your status. The officer can also take your card and let an immigration judge decide your status. If you planned to return to the United States earlier but were kept away due to an unexpected issue, you could try to convince the border officer or immigration judge you did not intend to abandon your U.S. residence. However, if you plan to spend more than one year outside the United States, you should apply for are-entry permitorSB-1 visa, also known as a returning resident visa, before you leave.'}\n",
      "{'category': 'Green Cards', 'question': 'Consequences of Green Card Abandonment', 'answer': 'If you surrender or abandon your green card, you cannot undo your choice. Without a green card, you usually need to file a visa application to travel to the United States. If you are a citizen of certain countries, you can travel without a visa under theVisa Waiver Program. If you travel to the United States without an updated visa, you could face removal proceedings or deportation. If you voluntarily gave up your green card, you must carry the U.S. Citizenship and Immigration Services (USCIS) response to your submitted Form I-407 when re-entering the United States. In the future, you can apply for a new green card. But you will have to restart the process completely. Keep in mind that your eligibility may have changed. For example, if you applied for a green card as a minor child of a U.S. citizen but you are no longer a minor and are married to a noncitizen, you no longer qualify.'}\n",
      "{'category': 'Green Cards', 'question': 'How to Voluntarily Give Up Your U.S. Permanent Residence Status', 'answer': 'To give up your green card, you need to fileForm I-407, Record of Abandonment of Lawful Permanent Resident Status. With this form, you will need to provide basic biographical information, your most recent departure from the United States, and your reason for abandoning your status. You will also have to return your green card or explain why you cannot send it back. For example, if you lost or destroyed your green card, you can explain that. You should not send back any other documents, such as a state-issued driver’s license. You will then mail your form and green card to one of the following addresses, depending on which postal carrier you choose. U.S. Postal Service (USPS): USCIS Eastern Forms Center Attn: I-407 Unit P.O. Box 567 Williston, VT 05495 FedEx, UPS, DHL: USCIS Eastern Forms Center Attn: I-407 Unit 124 Leroy Road Williston, VT 05495'}\n",
      "{'category': 'Green Cards', 'question': 'Response Times and Special Circumstances', 'answer': 'To give up your green card, you need to fileForm I-407, Record of Abandonment of Lawful Permanent Resident Status. With this form, you will need to provide basic biographical information, your most recent departure from the United States, and your reason for abandoning your status. You will also have to return your green card or explain why you cannot send it back. For example, if you lost or destroyed your green card, you can explain that. You should not send back any other documents, such as a state-issued driver’s license. You will then mail your form and green card to one of the following addresses, depending on which postal carrier you choose. U.S. Postal Service (USPS): USCIS Eastern Forms Center Attn: I-407 Unit P.O. Box 567 Williston, VT 05495 FedEx, UPS, DHL: USCIS Eastern Forms Center Attn: I-407 Unit 124 Leroy Road Williston, VT 05495 You will likely hear back from the United States after two months if you mail your form. In rare cases, like if you need to apply for an A or G visa, you may need to immediately prove you abandoned your status. If so, you can go to your local U.S. embassy or U.S. consulate, surrender your green card there, and submit your form in person. If you surrendered your green card to avoid taxation, you should consult a tax adviser about how to show the IRS that you are no longer a permanent resident. You will likely have to provide your Form I-407 application.'}\n",
      "{'category': 'Green Cards', 'question': 'What Are the Minimum Income Requirements for a Green Card Sponsor?', 'answer': 'Theminimum income requirementson green card financial sponsorship depend on whether or not you (the petitioner or “sponsor”) are a civilian spouse or a military spouse. Military spouses are those on active duty in the U.S. armed forces petitioning for their spouse’sgreen card. All other spouses are civilian spouses.'}\n",
      "{'category': 'Green Cards', 'question': 'For Civilian Spouses - 125% of Federal Poverty Guidelines', 'answer': 'Theminimum income requirementson green card financial sponsorship depend on whether or not you (the petitioner or “sponsor”) are a civilian spouse or a military spouse. Military spouses are those on active duty in the U.S. armed forces petitioning for their spouse’sgreen card. All other spouses are civilian spouses. Civilian spouses’ eligibility to qualify as sponsors for theirspouse’s green cardapplication depends on whether they have an income of at least 125% of the federal poverty level guidelines. Note that couples who both live outside the United States will follow the minimum annual income requirements for the 48 contiguous states, Washington D.C., and any U.S. territories. Federal poverty guidelines depend on your household size and location. The minimum income requirements for sponsors living in Alaska or Hawaii differ from the requirements for sponsors living elsewhere in the United States. The following table summarizes the minimum income requirements for civilian spouse sponsors. For example, a civilian spouse with a household size of five would have a minimum income requirement of $50,737 if they live in Alaska or $46,687 if they live in Hawaii. If they live anywhere else in the United States, their minimum income requirement would be $40,587.'}\n",
      "{'category': 'Green Cards', 'question': 'Minimum Income Requirements for Civilian Spouse Sponsors, effective March 2022', 'answer': 'Theminimum income requirementson green card financial sponsorship depend on whether or not you (the petitioner or “sponsor”) are a civilian spouse or a military spouse. Military spouses are those on active duty in the U.S. armed forces petitioning for their spouse’sgreen card. All other spouses are civilian spouses. Civilian spouses’ eligibility to qualify as sponsors for theirspouse’s green cardapplication depends on whether they have an income of at least 125% of the federal poverty level guidelines. Note that couples who both live outside the United States will follow the minimum annual income requirements for the 48 contiguous states, Washington D.C., and any U.S. territories. Federal poverty guidelines depend on your household size and location. The minimum income requirements for sponsors living in Alaska or Hawaii differ from the requirements for sponsors living elsewhere in the United States. The following table summarizes the minimum income requirements for civilian spouse sponsors. For example, a civilian spouse with a household size of five would have a minimum income requirement of $50,737 if they live in Alaska or $46,687 if they live in Hawaii. If they live anywhere else in the United States, their minimum income requirement would be $40,587. Household Size (including the sponsor and their spouse)125% of the Federal Poverty Line in the 48 contiguous states, D.C., and any U.S. territories125% of the Federal Poverty Line in Alaska125% of the Federal Poverty Line in Hawaii2$22,887$28,612$26,3253$28,787$35,987$33,1124$34,687$43,362$39,9005$40,587$50,737$46,6876$46,487$58,112$53,4757$52,387$65,487$60,2628$58,287$72,862$67,050For each additional household member, add:$5,900$7,375$6,787'}\n",
      "{'category': 'Green Cards', 'question': 'For Military Spouses - 100% of Federal Poverty Guidelines', 'answer': 'Theminimum income requirementson green card financial sponsorship depend on whether or not you (the petitioner or “sponsor”) are a civilian spouse or a military spouse. Military spouses are those on active duty in the U.S. armed forces petitioning for their spouse’sgreen card. All other spouses are civilian spouses. Civilian spouses’ eligibility to qualify as sponsors for theirspouse’s green cardapplication depends on whether they have an income of at least 125% of the federal poverty level guidelines. Note that couples who both live outside the United States will follow the minimum annual income requirements for the 48 contiguous states, Washington D.C., and any U.S. territories. Federal poverty guidelines depend on your household size and location. The minimum income requirements for sponsors living in Alaska or Hawaii differ from the requirements for sponsors living elsewhere in the United States. The following table summarizes the minimum income requirements for civilian spouse sponsors. For example, a civilian spouse with a household size of five would have a minimum income requirement of $50,737 if they live in Alaska or $46,687 if they live in Hawaii. If they live anywhere else in the United States, their minimum income requirement would be $40,587. Household Size (including the sponsor and their spouse)125% of the Federal Poverty Line in the 48 contiguous states, D.C., and any U.S. territories125% of the Federal Poverty Line in Alaska125% of the Federal Poverty Line in Hawaii2$22,887$28,612$26,3253$28,787$35,987$33,1124$34,687$43,362$39,9005$40,587$50,737$46,6876$46,487$58,112$53,4757$52,387$65,487$60,2628$58,287$72,862$67,050For each additional household member, add:$5,900$7,375$6,787 Military spouses’ eligibility as sponsors for their spouse’s green card application depends on whether they have an income of at least 100% of the federal poverty level guidelines. Note that couples who both live outside of the United States will follow the minimum annual income requirements for the 48 contiguous states, Washington D.C., and any U.S. territories. Federal poverty guidelines depend on your household size and location. The minimum income requirements for sponsors living in Alaska or Hawaii differ from the requirements for sponsors living elsewhere in the United States. The following table summarizes the minimum income requirements for military spouse sponsors. For example, a military spouse with a household size of two would have a minimum income requirement of $22,890 if they live in Alaska or $21,060 if they live in Hawaii. If they live anywhere else in the United States, their minimum income requirement would be $18,310.'}\n",
      "{'category': 'Green Cards', 'question': 'Minimum Income Requirements for Military Spouse Sponsors, effective March 2022', 'answer': 'Theminimum income requirementson green card financial sponsorship depend on whether or not you (the petitioner or “sponsor”) are a civilian spouse or a military spouse. Military spouses are those on active duty in the U.S. armed forces petitioning for their spouse’sgreen card. All other spouses are civilian spouses. Civilian spouses’ eligibility to qualify as sponsors for theirspouse’s green cardapplication depends on whether they have an income of at least 125% of the federal poverty level guidelines. Note that couples who both live outside the United States will follow the minimum annual income requirements for the 48 contiguous states, Washington D.C., and any U.S. territories. Federal poverty guidelines depend on your household size and location. The minimum income requirements for sponsors living in Alaska or Hawaii differ from the requirements for sponsors living elsewhere in the United States. The following table summarizes the minimum income requirements for civilian spouse sponsors. For example, a civilian spouse with a household size of five would have a minimum income requirement of $50,737 if they live in Alaska or $46,687 if they live in Hawaii. If they live anywhere else in the United States, their minimum income requirement would be $40,587. Household Size (including the sponsor and their spouse)125% of the Federal Poverty Line in the 48 contiguous states, D.C., and any U.S. territories125% of the Federal Poverty Line in Alaska125% of the Federal Poverty Line in Hawaii2$22,887$28,612$26,3253$28,787$35,987$33,1124$34,687$43,362$39,9005$40,587$50,737$46,6876$46,487$58,112$53,4757$52,387$65,487$60,2628$58,287$72,862$67,050For each additional household member, add:$5,900$7,375$6,787 Military spouses’ eligibility as sponsors for their spouse’s green card application depends on whether they have an income of at least 100% of the federal poverty level guidelines. Note that couples who both live outside of the United States will follow the minimum annual income requirements for the 48 contiguous states, Washington D.C., and any U.S. territories. Federal poverty guidelines depend on your household size and location. The minimum income requirements for sponsors living in Alaska or Hawaii differ from the requirements for sponsors living elsewhere in the United States. The following table summarizes the minimum income requirements for military spouse sponsors. For example, a military spouse with a household size of two would have a minimum income requirement of $22,890 if they live in Alaska or $21,060 if they live in Hawaii. If they live anywhere else in the United States, their minimum income requirement would be $18,310. Household Size (including the sponsor and their spouse)100% of the Federal Poverty Line in the 48 contiguous states, D.C., and any U.S. territories100% of the Federal Poverty Line in Alaska100% of the Federal Poverty Line in Hawaii2$18,310$22,890$21,0603$23,030$28,790$26,4904$27,750$34,690$31,9205$32,470$40,590$37,3506$37,190$46,490$42,7807$41,910$52,390$48,2108$46,630$58,290$53,640For each additional household member, add:$4,720$5,900$5,430'}\n",
      "{'category': 'Green Cards', 'question': '\\u200dHow To Calculate Your Household Size for Minimum Income Requirements', 'answer': 'To calculate your household size forminimum income level requirements, be sure to count the following: Yourself (the sponsoring spouse)Your spouse (the sponsored immigrant)Any of your unmarried children who are minorsAny of your dependents as listed on your tax returnsAnyone else applying for a green card and coming to the United States with your spouseAnyone else you will be sponsoring on a differentAffidavit of Support'}\n",
      "{'category': 'Green Cards', 'question': 'What Sources of Income Count?', 'answer': 'In most cases, the sponsor’s income you may include will be the same as the amount you reported on your most recent U.S. federal income tax return. You can find this figure on line nine of Internal Revenue Service (IRS)Form 1040. Your total income includes your wages, salaries, retirement benefits, alimony, child support, dividends or earned interest, and any legally obtained income from other sources.'}\n",
      "{'category': 'Green Cards', 'question': \"What If My Income Isn't Enough?\", 'answer': 'In most cases, the sponsor’s income you may include will be the same as the amount you reported on your most recent U.S. federal income tax return. You can find this figure on line nine of Internal Revenue Service (IRS)Form 1040. Your total income includes your wages, salaries, retirement benefits, alimony, child support, dividends or earned interest, and any legally obtained income from other sources. If your income is not enough to satisfy the minimum income requirement for sponsorship, you may include your other adult household members’ income. But you will only be able to include this additional income if they commit to making this income available to help provide financial support to your green card applicant relative. If you want to have other household members’ incomes counted, they will need to completeForm I-864A, Contract Between Sponsor and Household Member. If you still fail to meet the minimum income requirement even with other household members’ added income, you may obtain a co-sponsor, orjoint sponsor. A joint sponsor is someone who does not live in your household but who will accept full financial responsibility for your green card applicant relative. A co-sponsor will need to complete their own Form I-864. They will also need to meet the minimum income requirement on their own. A co-sponsor does not need to be a family member, but they need to be a U.S. citizen or lawful permanent resident who lives in the United States. You may also include income from the green card applicant themself, but only if they will continue to receive their income from the same source after receiving their green card.'}\n",
      "{'category': 'Green Cards', 'question': 'Foreign Income', 'answer': 'In most cases, the sponsor’s income you may include will be the same as the amount you reported on your most recent U.S. federal income tax return. You can find this figure on line nine of Internal Revenue Service (IRS)Form 1040. Your total income includes your wages, salaries, retirement benefits, alimony, child support, dividends or earned interest, and any legally obtained income from other sources. If your income is not enough to satisfy the minimum income requirement for sponsorship, you may include your other adult household members’ income. But you will only be able to include this additional income if they commit to making this income available to help provide financial support to your green card applicant relative. If you want to have other household members’ incomes counted, they will need to completeForm I-864A, Contract Between Sponsor and Household Member. If you still fail to meet the minimum income requirement even with other household members’ added income, you may obtain a co-sponsor, orjoint sponsor. A joint sponsor is someone who does not live in your household but who will accept full financial responsibility for your green card applicant relative. A co-sponsor will need to complete their own Form I-864. They will also need to meet the minimum income requirement on their own. A co-sponsor does not need to be a family member, but they need to be a U.S. citizen or lawful permanent resident who lives in the United States. You may also include income from the green card applicant themself, but only if they will continue to receive their income from the same source after receiving their green card. If you currently don’t live in the United States, your foreign income will not count toward your minimum income requirement. But if you prove that you will stay in your current job once you enter the United States or get a new position in the United States that meets the financial requirements, you may count your foreign income. For example, if you are transferring from your company’s foreign office to their U.S.-based office, you would qualify. If you were initially working remotely, you would also be eligible to count foreign income.'}\n",
      "{'category': 'Green Cards', 'question': 'Assets', 'answer': 'In most cases, the sponsor’s income you may include will be the same as the amount you reported on your most recent U.S. federal income tax return. You can find this figure on line nine of Internal Revenue Service (IRS)Form 1040. Your total income includes your wages, salaries, retirement benefits, alimony, child support, dividends or earned interest, and any legally obtained income from other sources. If your income is not enough to satisfy the minimum income requirement for sponsorship, you may include your other adult household members’ income. But you will only be able to include this additional income if they commit to making this income available to help provide financial support to your green card applicant relative. If you want to have other household members’ incomes counted, they will need to completeForm I-864A, Contract Between Sponsor and Household Member. If you still fail to meet the minimum income requirement even with other household members’ added income, you may obtain a co-sponsor, orjoint sponsor. A joint sponsor is someone who does not live in your household but who will accept full financial responsibility for your green card applicant relative. A co-sponsor will need to complete their own Form I-864. They will also need to meet the minimum income requirement on their own. A co-sponsor does not need to be a family member, but they need to be a U.S. citizen or lawful permanent resident who lives in the United States. You may also include income from the green card applicant themself, but only if they will continue to receive their income from the same source after receiving their green card. If you currently don’t live in the United States, your foreign income will not count toward your minimum income requirement. But if you prove that you will stay in your current job once you enter the United States or get a new position in the United States that meets the financial requirements, you may count your foreign income. For example, if you are transferring from your company’s foreign office to their U.S.-based office, you would qualify. If you were initially working remotely, you would also be eligible to count foreign income. If you find that your total household income does not yet satisfy the minimum income requirement, you may count your assets to make up the difference. In addition to your assets, you may count other household members’ assets if both of the following are true: You are related to them by birth, marriage, or adoption.You have either lived with them for the past six months or have listed them as dependents on your most recent tax return. To check how much of your assets you’ll have to include on your Affidavit of Support to substitute for your income, be sure to do the following: Using the above tables, locate yourminimum income requirementdepending on your household size and civilian versus military status.Find the difference between your minimum income requirement and your actual combined household income.If you (the sponsor) are a U.S. citizen, multiply this difference by three. If you (the sponsor) are a green card holder, multiply this difference by five. The result of this calculation will give you the total asset value you’ll need to satisfy the minimum income requirement. Once you’ve found your needed asset value, you can begin figuring out which assets to count to meet the requirement. U.S. Citizenship and Immigration Services (USCIS) is the government agency of the Department of Homeland Security (DHS) that will process your application. USCIS only allows you to count assets that could be converted into cash within just one year, without any considerable financial loss to the asset owner.'}\n",
      "{'category': 'Green Cards', 'question': 'Examples of Included Assets', 'answer': 'In most cases, the sponsor’s income you may include will be the same as the amount you reported on your most recent U.S. federal income tax return. You can find this figure on line nine of Internal Revenue Service (IRS)Form 1040. Your total income includes your wages, salaries, retirement benefits, alimony, child support, dividends or earned interest, and any legally obtained income from other sources. If your income is not enough to satisfy the minimum income requirement for sponsorship, you may include your other adult household members’ income. But you will only be able to include this additional income if they commit to making this income available to help provide financial support to your green card applicant relative. If you want to have other household members’ incomes counted, they will need to completeForm I-864A, Contract Between Sponsor and Household Member. If you still fail to meet the minimum income requirement even with other household members’ added income, you may obtain a co-sponsor, orjoint sponsor. A joint sponsor is someone who does not live in your household but who will accept full financial responsibility for your green card applicant relative. A co-sponsor will need to complete their own Form I-864. They will also need to meet the minimum income requirement on their own. A co-sponsor does not need to be a family member, but they need to be a U.S. citizen or lawful permanent resident who lives in the United States. You may also include income from the green card applicant themself, but only if they will continue to receive their income from the same source after receiving their green card. If you currently don’t live in the United States, your foreign income will not count toward your minimum income requirement. But if you prove that you will stay in your current job once you enter the United States or get a new position in the United States that meets the financial requirements, you may count your foreign income. For example, if you are transferring from your company’s foreign office to their U.S.-based office, you would qualify. If you were initially working remotely, you would also be eligible to count foreign income. If you find that your total household income does not yet satisfy the minimum income requirement, you may count your assets to make up the difference. In addition to your assets, you may count other household members’ assets if both of the following are true: You are related to them by birth, marriage, or adoption.You have either lived with them for the past six months or have listed them as dependents on your most recent tax return. To check how much of your assets you’ll have to include on your Affidavit of Support to substitute for your income, be sure to do the following: Using the above tables, locate yourminimum income requirementdepending on your household size and civilian versus military status.Find the difference between your minimum income requirement and your actual combined household income.If you (the sponsor) are a U.S. citizen, multiply this difference by three. If you (the sponsor) are a green card holder, multiply this difference by five. The result of this calculation will give you the total asset value you’ll need to satisfy the minimum income requirement. Once you’ve found your needed asset value, you can begin figuring out which assets to count to meet the requirement. U.S. Citizenship and Immigration Services (USCIS) is the government agency of the Department of Homeland Security (DHS) that will process your application. USCIS only allows you to count assets that could be converted into cash within just one year, without any considerable financial loss to the asset owner. Your included assets may be savings accounts, stocks and bonds, mutual fund investments, and certificates of deposit (CDs). You are also able to use your home’s net value as an asset. Your home’s net value includes any mortgages or unpaid fees on the home subtracted from the home’s appraised value. You will also be able to include the net value of a car. However, you will only be able to do so if you own another vehicle you haven’t yet counted as an asset. The net value of your car will be the market value of your car minus any outstanding auto loans on your vehicle. You may also count assets belonging to your green card applicant spouse (or the intending immigrant). You may count their assets regardless of where they live and even if they hold non-U.S. or foreign assets. To apply foreign holdings to the minimum income requirement, the green card applicant must meet the following guidelines: They have liquid assets, which they may convert into cash within one year.They can move their assets from their current country of residence to the United States.The total value of their assets must be at least five times the difference between your (the sponsor’s) income and your minimum income requirement. '}\n",
      "{'category': 'Green Cards', 'question': 'What Is the Green Card Number?', 'answer': 'Your green card number is a 13-digit number that U.S. Citizenship and Immigration Services (USCIS) assigns to your specificgreen cardapplication. Your green card number is printed on your permanent resident card. The green card number is sometimes called a “case number,” “permanent resident card number,” or an “I-551 receipt number.” Form I-551 is the form number for a green card. Your green card number isnotthe same thing as youralien registration number(A-number), which is also printed on your green card. Your green card number is also not the same thing as your USCIS number, which can be found on the front of your card.'}\n",
      "{'category': 'Green Cards', 'question': 'Where Is the Green Card Number on Your Card?', 'answer': 'If you have the current version of the green card, you’ll find your green card number printed on the card’s backside at the bottom. Your green card number is in the first line of a long string of 90 characters, made of letters, numbers, and less-than symbols (<<). Your green card number begins with three letters and ends with 10 numbers. For example:  Sample Green Card - Back  Sample Green Card - Front If you have an older version of the green card, your number may be at the bottom of the front of your card. For example:\\u200d  Sample Green Card - Old Version On much older green card versions, there is no green card number on the card. If your card has no green card number, it means that U.S. Citizenship and Immigration Services (USCIS) was not using the green card number at the time they issued your card.'}\n",
      "{'category': 'Green Cards', 'question': 'Understanding the Green Card Number Format', 'answer': 'As we mentioned, your green card number is found in the first line of a string of 90 characters on your card. That line begins with either a “C1” or “C2,” which indicates whether you are a permanent resident living in the United States (C1), or a permanent resident commuter (C2). The letters “USA” follow, indicating your country of permanent residence. The next ten numbers in the sequence are youralien number. Finally, your green card number comes next. The first three letters of your green card number represent the service center that processed your card. Each USCIS service center has a three-letter code: CSC - California Service CenterEAC - Eastern Adjudication Center (which is now the Vermont Service Center)IOE - ELIS e-file (for applications filed online)LIN - Lincoln Service Center (which is now the Nebraska Service Center)MSC -\\xa0 Missouri Service Center (which is now the National Benefits Center)NSC - Nebraska Service CenterNBC - National Benefits CenterSRC - Southern Regional Center (which is now the Texas Service Center)TSC - Texas Service CenterVSC - Vermont Service CenterWAC - Western Adjudication Center (which is now the California Service Center)YSC - Potomac Service Center For example, if your green card number readsEAC 20 005 40421, you know that your green card was processed in the Eastern Adjudication Center (EAC), which is now the Vermont Service Center. After the service center code, the next two numbers represent the fiscal year when you submitted your green card application to the U.S. government. The U.S. government’s fiscal year begins on October 1st and ends on September 30th of the following year, so this date will not necessarily match your calendar date. In our sample green card number,EAC 20 005 40421,the fiscal year is represented by 20, meaning that the government received that green card case in October 2019. The next part of the green card number represents what’s called the “computer workday.” A computer workday is a three-digit number based on the regular 365-day calendar, which excludes weekends and holidays. So, in our sample green card number,EAC 20 005 40421, the government agency received the green card application on the fifth workday of fiscal year 2020. The final part of the green card number is the 5-digit case number. In our example, the green card holder’s case number is40421. Your case number is unique to you and represents the number USCIS assigned to the green card application that they ultimately approved.'}\n"
     ]
    }
   ],
   "source": [
    "# Inspect the first entry of the dataset to ensure it's correct\n",
    "for i in range(20):\n",
    "    print(dataset[i])  # Inspect the first entry\n"
   ]
  },
  {
   "cell_type": "code",
   "execution_count": 37,
   "id": "e9aa5ee6-a293-4df3-a871-31fc77b98f5d",
   "metadata": {},
   "outputs": [
    {
     "name": "stdout",
     "output_type": "stream",
     "text": [
      "{'category': ['USCIS Processing Times', 'USCIS Processing Times', 'USCIS Processing Times', 'USCIS Processing Times', 'USCIS Processing Times', 'USCIS Processing Times', 'USCIS Processing Times', 'USCIS Processing Times', 'USCIS Processing Times', 'USCIS Processing Times', 'USCIS Processing Times', 'USCIS Processing Times', 'USCIS Processing Times', 'USCIS Processing Times', 'USCIS Processing Times', 'USCIS Processing Times', 'USCIS Processing Times', 'USCIS Processing Times', 'USCIS Processing Times', 'USCIS Processing Times'], 'question': ['Historical Form I-765 Processing Times Based on a Pending Asylum Application: 2018–2022', 'How Long Will My Asylum Application Take?', 'How Do I Check My Asylum Case Status?', 'Form I-130 Processing Times', 'Form I-485 Processing Times', 'Historical Form I-485* Processing Times: 2018-2022', 'Form I-765 Processing Times', 'Historical I-765* Work Authorization Application Processing Times: 2018–2022', 'How Long Will My Marriage Green Card Application Take?', 'Form I-821D Processing Times', 'Initial DACA Application Processing Time', 'Historical Initial DACA Application Processing Times: 2018–2022', 'DACA Renewal Processing Time', 'Historical DACA Renewal Application Processing Times: 2018–2022', 'Form I-765 Processing Times', 'Historical I-765 Work Authorization Application Processing Times: 2018–2022', 'Form I-131 Processing Times*', 'Historical Form I-131 Advance Parole Application Processing Times: 2018–2022', 'How Long Will My DACA Application Take?', 'Conclusion'], 'answer': ['Three USCIS Service Centers process work permit applications based on a renewal or replacement asylum application. Here are the current processing times: USCIS Service CenterLast WeekThis WeekChange?Nebraska Service Center16 months16 monthsNo changePotomac Service Center16 months16 monthsNo changeTexas Service Center16 months16 monthsNo change Historical processing times for asylum work authorization applications have varied significantly, according to theUSCIS website. In the last five years, the average median processing time for an asylum work permit (Form I-765) was3.4 months. You can also see that the average processing time has increased considerably in the last five years. FY 2018FY 2019FY 2020FY 2021FY2022Form I-765 Processing Time.9 months2 months2.5 months3.2 months9.2 months', 'Several factors influence wait times, including processing delays — such as the continued backlog due to the pandemic — and staffing or budget issues at a given service center. Another important factor is which type of asylum you’re applying for. There are three types of asylum: Affirmative asylumDefensive asylumAsylum granted through a merits interview The type of asylum you’re seeking will also influence the total processing time for your asylum claim. If you aren’t involved in removal proceedings, you can file an affirmative asylum application. This requires an asylum interview and abiometricsor fingerprinting appointment at a USCIS Application Support Center. Both can add to your total processing time.If you are in deportation proceedings in immigration court, your asylum application process will look a bit different. You’ll still file Form I-589, but you’ll also have to appear before an immigration judge who will decide on your asylum claim. This is called defensive asylum.If you pass the credible fear interview with USCIS, they may recommend a second interview called an asylum merits interview. The asylum officer who conducts the interview will determine your eligibility. You can read more about each in ourAsylum Application Guide.', 'If you’re wondering what’s happening with your asylum case, you cancheck your case status onlineusing thereceipt numberfrom your application receipt notice. Our Learning Center contains several articles that can help youunderstand your case status. If your application is outside normal processing times, you cancontact USCISto ask for additional information. Note: All data in this article comes from theUSICS processing timesand theUSCIS historic processing timespage.', 'Form I-130: Petition for Alien Relative is the first form you must file to start the marriage-based green card application process. A U.S. citizen or lawful permanent resident must file this form on behalf of their foreign spouse. Five USCIS service centers process Form I-130. Here are the current processing times for Form I-130 forU.S. citizensfiling for a spouse beneficiary: USCIS Service CenterLast WeekThis WeekChange?California Service Center14 months14 monthsNo changeNebraska Service Center14 months14 monthsNo changePotomac Service Center14 months14 monthsNo changeTexas Service Center14 months14 monthsNo changeVermont Service Center14 months14 monthsNo changeAll Field Offices14 months14 monthsNo change Here are the current processing times for Form I-130 forlawful permanent residentsfiling for a spouse beneficiary: USCIS Service CenterLast WeekThis WeekChange?California Service Center38.5 months38.5 monthsNo changeNebraska Service Center29 months29 monthsNo changePotomac Service Center32.5 months32.5 monthsNo changeTexas Service Center37 months37 monthsNo changeVermont Service Center34.5 months34.5 monthsNo changeAll Field Offices70.5 months70.5 monthsNo change', 'Form I-485 is the second form you and your spouse must file to get a marriage-based green card. This is the form that allows your spouse toadjust status, get permanent residency, and become a U.S. green card holder. Several USCIS offices process Form I-485. Here are the current processing times for Form I-485 by field office: USCIS Field OfficeLast WeekThis WeekChange?Agana GU17 months17 monthsNo changeAlbany NY20 months20 monthsNo changeAlbuquerque NM14.5 months14.5 monthsNo changeAnchorage AK16.5 months16.5 monthsNo changeAtlanta GA23 months23 monthsNo changeBaltimore MD24 months24 monthsNo changeBoise ID18 months18 monthsNo changeBoston MA15 months15 monthsNo changeBrooklyn NY23 months23 monthsNo changeBuffalo NY12 months12 monthsNo changeBurlington VT12 months12 monthsNo changeCharleston SC20.5 months20.5 monthsNo changeCharlotte Amalie VI17.5 months17.5 monthsNo changeCharlotte NC18.5 months18.5 monthsNo changeChicago IL17.5 months17.5 monthsNo changeChristiansted VI17 months17 monthsNo changeCincinnati OH14.5 months14.5 monthsNo changeCleveland OH13.5 months13.5 monthsNo changeColumbus OH13.5 months13.5 monthsNo changeDallas TX15 months15 monthsNo changeDenver CO18.5 months18.5 monthsNo changeDes Moines IA17 months17 monthsNo changeDetroit MI14.5 months14.5 monthsNo changeEl Paso TX14 months14 monthsNo changeFort Myers FL18.5 months18.5 monthsNo changeFort Smith AR13.5 months13.5 monthsNo changeFresno CA16 months16 monthsNo changeGreer SC13.5 months13.5 monthsNo changeHarlingen TX18.5 months18.5 monthsNo changeHartford CT15.5 months15.5 monthsNo changeHelena MT17 months17 monthsNo changeHialeah FL15 months15 monthsNo changeHonolulu HI15 months15 monthsNo changeHouston TX16.5 months16.5 monthsNo changeImperial CA12.5 months12.5 monthsNo changeIndianapolis IN20 months20 monthsNo changeJacksonville FL19 months19 monthsNo changeKansas City MO20.5 months20.5 monthsNo changeKendall FL19.5 months19.5 monthsNo changeLas Vegas NV22 months22 monthsNo changeLawrence MA14 months14 monthsNo changeLong Island NY15 months15 monthsNo changeLos Angeles CA15.5 months15.5 monthsNo changeLos Angeles County CA13 months13 monthsNo changeLouisville KY14 months14 monthsNo changeManchester NH13.5 months13.5 monthsNo changeMemphis TN22 months22 monthsNo changeMiami FL23.5 months23.5 monthsNo changeMilwaukee WI14 months14 monthsNo changeMinneapolis-St. Paul MN23.5 months23.5 monthsNo changeMontgomery AL15 months15 monthsNo changeMount Laurel NJ14 months14 monthsNo changeNashville TN20 months20 monthsNo changeNewark NJ17.5 months17.5 monthsNo changeNew Orleans LA25.5 months25.5 monthsNo changeNew York City NY18 months18 monthsNo changeNorfolk VA21 months21 monthsNo changeOakland Park FL16.5 months16.5 monthsNo changeOklahoma City OK16 months16 monthsNo changeOmaha NE19.5 months19.5 monthsNo changeOrlando FL18 months18 monthsNo changePhiladelphia PA15 months15 monthsNo changePhoenix AZ14.5 months14.5 monthsNo changePittsburgh PA14.5 months14.5 monthsNo changePortland ME13.5 months13.5 monthsNo changePortland OR17 months17 monthsNo changeProvidence RI16.5 months16.5 monthsNo changeQueens NY21 months21 monthsNo changeRaleigh NC21 months21 monthsNo changeReno NV15 months15 monthsNo changeSacramento CA19 months19 monthsNo changeSaint Louis MO14.5 months14.5 monthsNo changeSalt Lake City UT34.5 months34.5 monthsNo changeSan Antonio TX17 months17 monthsNo changeSan Bernardino CA15 months15 monthsNo changeSan Diego CA18.5 months18.5 monthsNo changeSan Fernando Valley CA13 months13 monthsNo changeSan Francisco CA19 months19 monthsNo changeSan Jose CA14 months14 monthsNo changeSan Juan PR17.5 months17.5 monthsNo changeSanta Ana CA17 months17 monthsNo changeSeattle WA18 months18 monthsNo changeSpokane WA15.5 months15.5 monthsNo changeTampa FL15.5 months15.5 monthsNo changeTucson AZ13.5 months13.5 monthsNo changeWashington DC19 months19 monthsNo changeWest Palm Beach FL16.5 months16.5 monthsNo changeWichita KS15 months15 monthsNo changeYakima WA16.5 months16.5 monthsNo change', 'Form I-485 is the second form you and your spouse must file to get a marriage-based green card. This is the form that allows your spouse toadjust status, get permanent residency, and become a U.S. green card holder. Several USCIS offices process Form I-485. Here are the current processing times for Form I-485 by field office: USCIS Field OfficeLast WeekThis WeekChange?Agana GU17 months17 monthsNo changeAlbany NY20 months20 monthsNo changeAlbuquerque NM14.5 months14.5 monthsNo changeAnchorage AK16.5 months16.5 monthsNo changeAtlanta GA23 months23 monthsNo changeBaltimore MD24 months24 monthsNo changeBoise ID18 months18 monthsNo changeBoston MA15 months15 monthsNo changeBrooklyn NY23 months23 monthsNo changeBuffalo NY12 months12 monthsNo changeBurlington VT12 months12 monthsNo changeCharleston SC20.5 months20.5 monthsNo changeCharlotte Amalie VI17.5 months17.5 monthsNo changeCharlotte NC18.5 months18.5 monthsNo changeChicago IL17.5 months17.5 monthsNo changeChristiansted VI17 months17 monthsNo changeCincinnati OH14.5 months14.5 monthsNo changeCleveland OH13.5 months13.5 monthsNo changeColumbus OH13.5 months13.5 monthsNo changeDallas TX15 months15 monthsNo changeDenver CO18.5 months18.5 monthsNo changeDes Moines IA17 months17 monthsNo changeDetroit MI14.5 months14.5 monthsNo changeEl Paso TX14 months14 monthsNo changeFort Myers FL18.5 months18.5 monthsNo changeFort Smith AR13.5 months13.5 monthsNo changeFresno CA16 months16 monthsNo changeGreer SC13.5 months13.5 monthsNo changeHarlingen TX18.5 months18.5 monthsNo changeHartford CT15.5 months15.5 monthsNo changeHelena MT17 months17 monthsNo changeHialeah FL15 months15 monthsNo changeHonolulu HI15 months15 monthsNo changeHouston TX16.5 months16.5 monthsNo changeImperial CA12.5 months12.5 monthsNo changeIndianapolis IN20 months20 monthsNo changeJacksonville FL19 months19 monthsNo changeKansas City MO20.5 months20.5 monthsNo changeKendall FL19.5 months19.5 monthsNo changeLas Vegas NV22 months22 monthsNo changeLawrence MA14 months14 monthsNo changeLong Island NY15 months15 monthsNo changeLos Angeles CA15.5 months15.5 monthsNo changeLos Angeles County CA13 months13 monthsNo changeLouisville KY14 months14 monthsNo changeManchester NH13.5 months13.5 monthsNo changeMemphis TN22 months22 monthsNo changeMiami FL23.5 months23.5 monthsNo changeMilwaukee WI14 months14 monthsNo changeMinneapolis-St. Paul MN23.5 months23.5 monthsNo changeMontgomery AL15 months15 monthsNo changeMount Laurel NJ14 months14 monthsNo changeNashville TN20 months20 monthsNo changeNewark NJ17.5 months17.5 monthsNo changeNew Orleans LA25.5 months25.5 monthsNo changeNew York City NY18 months18 monthsNo changeNorfolk VA21 months21 monthsNo changeOakland Park FL16.5 months16.5 monthsNo changeOklahoma City OK16 months16 monthsNo changeOmaha NE19.5 months19.5 monthsNo changeOrlando FL18 months18 monthsNo changePhiladelphia PA15 months15 monthsNo changePhoenix AZ14.5 months14.5 monthsNo changePittsburgh PA14.5 months14.5 monthsNo changePortland ME13.5 months13.5 monthsNo changePortland OR17 months17 monthsNo changeProvidence RI16.5 months16.5 monthsNo changeQueens NY21 months21 monthsNo changeRaleigh NC21 months21 monthsNo changeReno NV15 months15 monthsNo changeSacramento CA19 months19 monthsNo changeSaint Louis MO14.5 months14.5 monthsNo changeSalt Lake City UT34.5 months34.5 monthsNo changeSan Antonio TX17 months17 monthsNo changeSan Bernardino CA15 months15 monthsNo changeSan Diego CA18.5 months18.5 monthsNo changeSan Fernando Valley CA13 months13 monthsNo changeSan Francisco CA19 months19 monthsNo changeSan Jose CA14 months14 monthsNo changeSan Juan PR17.5 months17.5 monthsNo changeSanta Ana CA17 months17 monthsNo changeSeattle WA18 months18 monthsNo changeSpokane WA15.5 months15.5 monthsNo changeTampa FL15.5 months15.5 monthsNo changeTucson AZ13.5 months13.5 monthsNo changeWashington DC19 months19 monthsNo changeWest Palm Beach FL16.5 months16.5 monthsNo changeWichita KS15 months15 monthsNo changeYakima WA16.5 months16.5 monthsNo change Historical USCIS processing timesfor adjustment of status applications have been relatively consistent. In the last five years, the average median processing time for an adjustment of status application (Form I-485) was10 months. FY 2018FY 2019FY 2020FY 2021FY2022Form I-486: for all family-based adjustment applications10.6 months10 months8.8 months9.9 months11 months *USCIS does not track historical data for Form I-485 by eligibility category or family relationship. The above data is for Form I-485 for all family-based adjustment of status applications, which includes spouses, parents, and children (immediate relative or family member).', 'When you submit Form I-485 to adjust your status, you can also apply for a work permit (also called an employment authorization document or EAD). To do so, you need to fileForm I-765: Application for Employment Authorization. If you file both forms at the same time, you do not have to pay an additional filing fee for Form I-765. Prior to 2022, most applicants received their work permits 4–6 months after submitting their forms to USCIS. Current wait times are considerably longer, ranging from4.5–14 months. Here are the current processing times for marriage green card applicants who file Form I-765 at the same time as their Form I-485 to adjust status: USCIS Service CenterLast WeekThis WeekChange?California Service Center5.5 months5.5 monthsNo changeNational Benefits Center8 months8 monthsNo changeNebraska Service Center3.5 months3.5 monthsNo changeTexas Service Center11 months11 monthsNo changeVermont Service Center10 months10 monthsNo change', 'When you submit Form I-485 to adjust your status, you can also apply for a work permit (also called an employment authorization document or EAD). To do so, you need to fileForm I-765: Application for Employment Authorization. If you file both forms at the same time, you do not have to pay an additional filing fee for Form I-765. Prior to 2022, most applicants received their work permits 4–6 months after submitting their forms to USCIS. Current wait times are considerably longer, ranging from4.5–14 months. Here are the current processing times for marriage green card applicants who file Form I-765 at the same time as their Form I-485 to adjust status: USCIS Service CenterLast WeekThis WeekChange?California Service Center5.5 months5.5 monthsNo changeNational Benefits Center8 months8 monthsNo changeNebraska Service Center3.5 months3.5 monthsNo changeTexas Service Center11 months11 monthsNo changeVermont Service Center10 months10 monthsNo change USCIS processing timesfor work permit applications have been climbing in recent years. In the last five years, the average median processing time for a work authorization application (Form I-765) was3.6 months. Times have ranged from less than one month to 9.2 months, with the longest waiting period in the last five years being in 2022. FY 2018FY 2019FY 2020FY 2021FY2022Form I-765 based on pending I-4850.9 months2 months2.5 months3.2 months9.2 months *USCIS does not track historical data for Form I-765 by eligibility category or family relationship. The above data is for Form I-765 file concurrently with any family-based adjustment of status application, which includes spouses, parents, and children.', 'The entire marriage green card timeline can take 10–38 months.Several factors influence wait times, including processing delays — such as the continued backlog due to the pandemic — and staffing or budget issues at a given service center or field office. Aside from submitting your forms, you’ll need to submit supporting documents, undergo amedical examination,biometricsappointment, and agreen card interview. If you’re wondering what’s happening with your marriage green card case, you cancheck your case status onlineusing thereceipt numberfrom your application receipt notice. Our Learning Center contains several articles that can help youunderstand your case status. If your application is outside normal processing times, you cancontact USCISto ask for additional information.', 'Form I-821D: Consideration of Deferred Action for Childhood Arrivals is the main form you must submit toapply for DACA status. This is the same form you will use whether you are submitting afirst-time DACA applicationor applying torenew your DACA status.', 'To apply for initial DACA status, you must submit Form I-821D: Consideration of Deferred Action for Childhood Arrivals to\\xa0 U.S. Citizenship and Immigration Services (USCIS). Two USCIS Service Centers — the California Service Center and the Vermont Service Center — processinitial DACA applications. Here are the current processing times: USCIS Service CenterLast WeekThis WeekChange?CaliforniaNot processing**Not processing**No changeVermontNot processing**Not processing**No change **USCIS occasionally stops processing DACA forms due to policy changes. Check out ourDACA Newspage or theUSCIS DACA pagefor the latest information.', 'To apply for initial DACA status, you must submit Form I-821D: Consideration of Deferred Action for Childhood Arrivals to\\xa0 U.S. Citizenship and Immigration Services (USCIS). Two USCIS Service Centers — the California Service Center and the Vermont Service Center — processinitial DACA applications. Here are the current processing times: USCIS Service CenterLast WeekThis WeekChange?CaliforniaNot processing**Not processing**No changeVermontNot processing**Not processing**No change **USCIS occasionally stops processing DACA forms due to policy changes. Check out ourDACA Newspage or theUSCIS DACA pagefor the latest information. Historical USCIS processing timesfor initial applications have been several months longer than processing times for DACA renewal applications. Between 2018 and 2021, the average processing time for new DACA applications was7.6 months. FY 2018FY 2019FY 2020FY 2021FY 2022I-821D Request for Initial Deferred Action10.4 months8.9 months5.5 months5.9 monthsN/A** **USCIS occasionally stops processing DACA forms due to policy changes. Check out ourDACA Newspage or theUSCIS DACA pagefor the latest information.', 'If you already have DACA status, you must apply to renew it every two years using Form I-821D. Two USCIS Service Centers — the Nebraska Service Center and the Vermont Service Center — processDACA renewals. Here are the current processing times: USCIS Service CenterLast WeekThis WeekChange?Nebraska Service CenterLess than 3 monthsLess than 3 monthsNo changeVermont Service Center29.5 months29.5 monthsNo change', 'If you already have DACA status, you must apply to renew it every two years using Form I-821D. Two USCIS Service Centers — the Nebraska Service Center and the Vermont Service Center — processDACA renewals. Here are the current processing times: USCIS Service CenterLast WeekThis WeekChange?Nebraska Service CenterLess than 3 monthsLess than 3 monthsNo changeVermont Service Center29.5 months29.5 monthsNo change Historical USCIS processing timesfor DACA renewal applications have been relatively fast. For the last five years, the average processing time for DACA renewals was1.1 months. FY 2018FY 2019FY 2020FY 2021FY 2022I-821D Request for DACA Renewal1.2 months1.1 months1.1 months1.8 months0.5 months', 'Form I-765: Application for Employment Authorization Document (EAD) is another form in the DACA application. If USCIS approves your I-765, you get employment authorization — awork permit— which allows you to work legally in the United States. Note that DACA applicants must include theForm I-765 worksheetwith their DACA application packet. Three USCIS offices process the I-765 forms that approved DACA applicants file with Form I-821D when they renew. Here are the current processing times for each service center: USCIS Service CenterLast WeekThis WeekChange?CaliforniaNot processing**Not processing**No changeNebraskaLess than 3 monthsLess than 3 monthsNo changeVermont128 months128 monthsNo change **USCIS occasionally stops processing DACA forms due to policy changes. Check out ourDACA Newspage or theUSCIS Newsroomfor the latest information.', 'Form I-765: Application for Employment Authorization Document (EAD) is another form in the DACA application. If USCIS approves your I-765, you get employment authorization — awork permit— which allows you to work legally in the United States. Note that DACA applicants must include theForm I-765 worksheetwith their DACA application packet. Three USCIS offices process the I-765 forms that approved DACA applicants file with Form I-821D when they renew. Here are the current processing times for each service center: USCIS Service CenterLast WeekThis WeekChange?CaliforniaNot processing**Not processing**No changeNebraskaLess than 3 monthsLess than 3 monthsNo changeVermont128 months128 monthsNo change **USCIS occasionally stops processing DACA forms due to policy changes. Check out ourDACA Newspage or theUSCIS Newsroomfor the latest information. Historical USCIS processing times for work permits filed concurrently with Form I-821D have been relatively fast. For the last five years, the average median processing time was1.2 months. You can find a complete list of historicalprocessing times on the USCIS website. FY 2018FY 2019FY 2020FY 2021FY 2022I-765 Application for Employment Authorization (filed with Form I-821D)1.2 months1.1 months1.1 months1.9 months0.5 months', 'If you wish to travel outside of the United States as a DACA recipient, you must fileForm I-131: Application for Travel Document. This form isn’t required for the general DACA application, but it allows you to getAdvance Paroleto travel outside the U.S. and return lawfully. USCIS Service CenterLast WeekThis WeekChange?California12.5 months12.5 monthsNo changeNational Benefits Center9 months9 monthsNo changeNebraska5.5 months5.5 monthsNo changeTexas17.5 months17.5 monthsNo changeVermont9 months9 monthsNo change *Under immigration law, immigrants with many different statuses may apply for Advance Parole if they need to travel internationally. USCIS tracks all Form I-131 data collectively, so the numbers above and below reflect wait times for Form I-131 filed for any reason, not just DACA recipients filing for permission to travel.', 'If you wish to travel outside of the United States as a DACA recipient, you must fileForm I-131: Application for Travel Document. This form isn’t required for the general DACA application, but it allows you to getAdvance Paroleto travel outside the U.S. and return lawfully. USCIS Service CenterLast WeekThis WeekChange?California12.5 months12.5 monthsNo changeNational Benefits Center9 months9 monthsNo changeNebraska5.5 months5.5 monthsNo changeTexas17.5 months17.5 monthsNo changeVermont9 months9 monthsNo change *Under immigration law, immigrants with many different statuses may apply for Advance Parole if they need to travel internationally. USCIS tracks all Form I-131 data collectively, so the numbers above and below reflect wait times for Form I-131 filed for any reason, not just DACA recipients filing for permission to travel. For the last five years, the average median USCIS processing time for Form I-131 was5.5 monthsaccording todata from USCIS.gov. FY 2018FY 2019FY 2020FY 2021FY 2022I-131 Application for Travel Document (Advance Parole)3.6 months4.5 months4.6 months7.7 months7.3 months', 'DACA processing times vary widely. USCIS is not currently processing new DACA applications, but it processes DACA renewals in an average of13 months. Several factors can cause processing delaysand affect wait times, including the COVID-19 pandemic, the USCIS backlog, and which service center or field office is processing your application. If you’re wondering what’s happening with your DACA application, you cancheck your case status onlineusing thereceipt numberfrom your application receipt notice. Our Learning Center contains several articles that can help youunderstand your case status. If your application is outside normal processing times, you cancontact USCISto ask for additional information.', 'Though the DACA application and renewal process is relatively simple, it’s easy to get confused about what’s happening with DACA as courts and politicians weigh in on the program’s future. You can access ourDACA guides and newsto get the latest information on the DACA program.']}\n"
     ]
    }
   ],
   "source": [
    "'''last_20 = dataset[-20:]\n",
    "\n",
    "print(last_20)'''"
   ]
  },
  {
   "cell_type": "code",
   "execution_count": 7,
   "id": "eb6de091-3f4b-437f-adcb-e5bc677cee5d",
   "metadata": {},
   "outputs": [
    {
     "data": {
      "text/plain": [
       "Dataset({\n",
       "    features: ['category', 'question', 'answer'],\n",
       "    num_rows: 4558\n",
       "})"
      ]
     },
     "execution_count": 7,
     "metadata": {},
     "output_type": "execute_result"
    }
   ],
   "source": [
    "dataset"
   ]
  },
  {
   "cell_type": "code",
   "execution_count": 47,
   "id": "8991b956-2d5f-4653-81e4-ff97869e8751",
   "metadata": {},
   "outputs": [
    {
     "name": "stdout",
     "output_type": "stream",
     "text": [
      "{'category': 'Green Cards', 'question': 'What Is Green Card Abandonment?', 'answer': 'Green card abandonment is also known as an abandonment of lawful permanent resident status or LPR status. It can occur in two ways under immigration law: You give up your permanent resident card voluntarily, orU.S. Citizenship and Immigration Services (USCIS) takes your green card from you.'}\n"
     ]
    }
   ],
   "source": [
    "'''from datasets import Dataset\n",
    "\n",
    "# Assuming 'dataset' is already loaded\n",
    "qa_data = []\n",
    "\n",
    "# Iterate directly over the dataset rows\n",
    "for entry in dataset:\n",
    "    category = entry['category']\n",
    "    question = entry['question']\n",
    "    answer = entry['answer']\n",
    "    \n",
    "    # Clean answer (optional, depending on your needs)\n",
    "    answer = answer.strip()  # Example: strip extra whitespace or unwanted characters\n",
    "    \n",
    "    # Append the processed data to the qa_data list\n",
    "    qa_data.append({\n",
    "        'category': category,\n",
    "        'question': question,\n",
    "        'answer': answer\n",
    "    })\n",
    "\n",
    "# Create a new Hugging Face Dataset from the cleaned data\n",
    "cleaned_dataset = Dataset.from_dict({\n",
    "    'category': [x['category'] for x in qa_data],\n",
    "    'question': [x['question'] for x in qa_data],\n",
    "    'answer': [x['answer'] for x in qa_data]\n",
    "})\n",
    "\n",
    "# Inspect the first row of the cleaned dataset\n",
    "print(cleaned_dataset[0])  # Print the first row to check the cleaned data'''\n"
   ]
  },
  {
   "cell_type": "code",
   "execution_count": 46,
   "id": "0ca45f3f-5050-41f8-ab21-6e7da2e60451",
   "metadata": {},
   "outputs": [
    {
     "name": "stdout",
     "output_type": "stream",
     "text": [
      "{'category': 'USCIS Processing Times', 'question': 'Historical Form I-765 Processing Times Based on a Pending Asylum Application: 2018–2022', 'answer': 'Three USCIS Service Centers process work permit applications based on a renewal or replacement asylum application. Here are the current processing times: USCIS Service CenterLast WeekThis WeekChange?Nebraska Service Center16 months16 monthsNo changePotomac Service Center16 months16 monthsNo changeTexas Service Center16 months16 monthsNo change Historical processing times for asylum work authorization applications have varied significantly, according to theUSCIS website. In the last five years, the average median processing time for an asylum work permit (Form I-765) was3.4 months. You can also see that the average processing time has increased considerably in the last five years. FY 2018FY 2019FY 2020FY 2021FY2022Form I-765 Processing Time.9 months2 months2.5 months3.2 months9.2 months'}\n",
      "{'category': 'USCIS Processing Times', 'question': 'How Long Will My Asylum Application Take?', 'answer': 'Several factors influence wait times, including processing delays — such as the continued backlog due to the pandemic — and staffing or budget issues at a given service center. Another important factor is which type of asylum you’re applying for. There are three types of asylum: Affirmative asylumDefensive asylumAsylum granted through a merits interview The type of asylum you’re seeking will also influence the total processing time for your asylum claim. If you aren’t involved in removal proceedings, you can file an affirmative asylum application. This requires an asylum interview and abiometricsor fingerprinting appointment at a USCIS Application Support Center. Both can add to your total processing time.If you are in deportation proceedings in immigration court, your asylum application process will look a bit different. You’ll still file Form I-589, but you’ll also have to appear before an immigration judge who will decide on your asylum claim. This is called defensive asylum.If you pass the credible fear interview with USCIS, they may recommend a second interview called an asylum merits interview. The asylum officer who conducts the interview will determine your eligibility. You can read more about each in ourAsylum Application Guide.'}\n",
      "{'category': 'USCIS Processing Times', 'question': 'How Do I Check My Asylum Case Status?', 'answer': 'If you’re wondering what’s happening with your asylum case, you cancheck your case status onlineusing thereceipt numberfrom your application receipt notice. Our Learning Center contains several articles that can help youunderstand your case status. If your application is outside normal processing times, you cancontact USCISto ask for additional information. Note: All data in this article comes from theUSICS processing timesand theUSCIS historic processing timespage.'}\n",
      "{'category': 'USCIS Processing Times', 'question': 'Form I-130 Processing Times', 'answer': 'Form I-130: Petition for Alien Relative is the first form you must file to start the marriage-based green card application process. A U.S. citizen or lawful permanent resident must file this form on behalf of their foreign spouse. Five USCIS service centers process Form I-130. Here are the current processing times for Form I-130 forU.S. citizensfiling for a spouse beneficiary: USCIS Service CenterLast WeekThis WeekChange?California Service Center14 months14 monthsNo changeNebraska Service Center14 months14 monthsNo changePotomac Service Center14 months14 monthsNo changeTexas Service Center14 months14 monthsNo changeVermont Service Center14 months14 monthsNo changeAll Field Offices14 months14 monthsNo change Here are the current processing times for Form I-130 forlawful permanent residentsfiling for a spouse beneficiary: USCIS Service CenterLast WeekThis WeekChange?California Service Center38.5 months38.5 monthsNo changeNebraska Service Center29 months29 monthsNo changePotomac Service Center32.5 months32.5 monthsNo changeTexas Service Center37 months37 monthsNo changeVermont Service Center34.5 months34.5 monthsNo changeAll Field Offices70.5 months70.5 monthsNo change'}\n",
      "{'category': 'USCIS Processing Times', 'question': 'Form I-485 Processing Times', 'answer': 'Form I-485 is the second form you and your spouse must file to get a marriage-based green card. This is the form that allows your spouse toadjust status, get permanent residency, and become a U.S. green card holder. Several USCIS offices process Form I-485. Here are the current processing times for Form I-485 by field office: USCIS Field OfficeLast WeekThis WeekChange?Agana GU17 months17 monthsNo changeAlbany NY20 months20 monthsNo changeAlbuquerque NM14.5 months14.5 monthsNo changeAnchorage AK16.5 months16.5 monthsNo changeAtlanta GA23 months23 monthsNo changeBaltimore MD24 months24 monthsNo changeBoise ID18 months18 monthsNo changeBoston MA15 months15 monthsNo changeBrooklyn NY23 months23 monthsNo changeBuffalo NY12 months12 monthsNo changeBurlington VT12 months12 monthsNo changeCharleston SC20.5 months20.5 monthsNo changeCharlotte Amalie VI17.5 months17.5 monthsNo changeCharlotte NC18.5 months18.5 monthsNo changeChicago IL17.5 months17.5 monthsNo changeChristiansted VI17 months17 monthsNo changeCincinnati OH14.5 months14.5 monthsNo changeCleveland OH13.5 months13.5 monthsNo changeColumbus OH13.5 months13.5 monthsNo changeDallas TX15 months15 monthsNo changeDenver CO18.5 months18.5 monthsNo changeDes Moines IA17 months17 monthsNo changeDetroit MI14.5 months14.5 monthsNo changeEl Paso TX14 months14 monthsNo changeFort Myers FL18.5 months18.5 monthsNo changeFort Smith AR13.5 months13.5 monthsNo changeFresno CA16 months16 monthsNo changeGreer SC13.5 months13.5 monthsNo changeHarlingen TX18.5 months18.5 monthsNo changeHartford CT15.5 months15.5 monthsNo changeHelena MT17 months17 monthsNo changeHialeah FL15 months15 monthsNo changeHonolulu HI15 months15 monthsNo changeHouston TX16.5 months16.5 monthsNo changeImperial CA12.5 months12.5 monthsNo changeIndianapolis IN20 months20 monthsNo changeJacksonville FL19 months19 monthsNo changeKansas City MO20.5 months20.5 monthsNo changeKendall FL19.5 months19.5 monthsNo changeLas Vegas NV22 months22 monthsNo changeLawrence MA14 months14 monthsNo changeLong Island NY15 months15 monthsNo changeLos Angeles CA15.5 months15.5 monthsNo changeLos Angeles County CA13 months13 monthsNo changeLouisville KY14 months14 monthsNo changeManchester NH13.5 months13.5 monthsNo changeMemphis TN22 months22 monthsNo changeMiami FL23.5 months23.5 monthsNo changeMilwaukee WI14 months14 monthsNo changeMinneapolis-St. Paul MN23.5 months23.5 monthsNo changeMontgomery AL15 months15 monthsNo changeMount Laurel NJ14 months14 monthsNo changeNashville TN20 months20 monthsNo changeNewark NJ17.5 months17.5 monthsNo changeNew Orleans LA25.5 months25.5 monthsNo changeNew York City NY18 months18 monthsNo changeNorfolk VA21 months21 monthsNo changeOakland Park FL16.5 months16.5 monthsNo changeOklahoma City OK16 months16 monthsNo changeOmaha NE19.5 months19.5 monthsNo changeOrlando FL18 months18 monthsNo changePhiladelphia PA15 months15 monthsNo changePhoenix AZ14.5 months14.5 monthsNo changePittsburgh PA14.5 months14.5 monthsNo changePortland ME13.5 months13.5 monthsNo changePortland OR17 months17 monthsNo changeProvidence RI16.5 months16.5 monthsNo changeQueens NY21 months21 monthsNo changeRaleigh NC21 months21 monthsNo changeReno NV15 months15 monthsNo changeSacramento CA19 months19 monthsNo changeSaint Louis MO14.5 months14.5 monthsNo changeSalt Lake City UT34.5 months34.5 monthsNo changeSan Antonio TX17 months17 monthsNo changeSan Bernardino CA15 months15 monthsNo changeSan Diego CA18.5 months18.5 monthsNo changeSan Fernando Valley CA13 months13 monthsNo changeSan Francisco CA19 months19 monthsNo changeSan Jose CA14 months14 monthsNo changeSan Juan PR17.5 months17.5 monthsNo changeSanta Ana CA17 months17 monthsNo changeSeattle WA18 months18 monthsNo changeSpokane WA15.5 months15.5 monthsNo changeTampa FL15.5 months15.5 monthsNo changeTucson AZ13.5 months13.5 monthsNo changeWashington DC19 months19 monthsNo changeWest Palm Beach FL16.5 months16.5 monthsNo changeWichita KS15 months15 monthsNo changeYakima WA16.5 months16.5 monthsNo change'}\n",
      "{'category': 'USCIS Processing Times', 'question': 'Historical Form I-485* Processing Times: 2018-2022', 'answer': 'Form I-485 is the second form you and your spouse must file to get a marriage-based green card. This is the form that allows your spouse toadjust status, get permanent residency, and become a U.S. green card holder. Several USCIS offices process Form I-485. Here are the current processing times for Form I-485 by field office: USCIS Field OfficeLast WeekThis WeekChange?Agana GU17 months17 monthsNo changeAlbany NY20 months20 monthsNo changeAlbuquerque NM14.5 months14.5 monthsNo changeAnchorage AK16.5 months16.5 monthsNo changeAtlanta GA23 months23 monthsNo changeBaltimore MD24 months24 monthsNo changeBoise ID18 months18 monthsNo changeBoston MA15 months15 monthsNo changeBrooklyn NY23 months23 monthsNo changeBuffalo NY12 months12 monthsNo changeBurlington VT12 months12 monthsNo changeCharleston SC20.5 months20.5 monthsNo changeCharlotte Amalie VI17.5 months17.5 monthsNo changeCharlotte NC18.5 months18.5 monthsNo changeChicago IL17.5 months17.5 monthsNo changeChristiansted VI17 months17 monthsNo changeCincinnati OH14.5 months14.5 monthsNo changeCleveland OH13.5 months13.5 monthsNo changeColumbus OH13.5 months13.5 monthsNo changeDallas TX15 months15 monthsNo changeDenver CO18.5 months18.5 monthsNo changeDes Moines IA17 months17 monthsNo changeDetroit MI14.5 months14.5 monthsNo changeEl Paso TX14 months14 monthsNo changeFort Myers FL18.5 months18.5 monthsNo changeFort Smith AR13.5 months13.5 monthsNo changeFresno CA16 months16 monthsNo changeGreer SC13.5 months13.5 monthsNo changeHarlingen TX18.5 months18.5 monthsNo changeHartford CT15.5 months15.5 monthsNo changeHelena MT17 months17 monthsNo changeHialeah FL15 months15 monthsNo changeHonolulu HI15 months15 monthsNo changeHouston TX16.5 months16.5 monthsNo changeImperial CA12.5 months12.5 monthsNo changeIndianapolis IN20 months20 monthsNo changeJacksonville FL19 months19 monthsNo changeKansas City MO20.5 months20.5 monthsNo changeKendall FL19.5 months19.5 monthsNo changeLas Vegas NV22 months22 monthsNo changeLawrence MA14 months14 monthsNo changeLong Island NY15 months15 monthsNo changeLos Angeles CA15.5 months15.5 monthsNo changeLos Angeles County CA13 months13 monthsNo changeLouisville KY14 months14 monthsNo changeManchester NH13.5 months13.5 monthsNo changeMemphis TN22 months22 monthsNo changeMiami FL23.5 months23.5 monthsNo changeMilwaukee WI14 months14 monthsNo changeMinneapolis-St. Paul MN23.5 months23.5 monthsNo changeMontgomery AL15 months15 monthsNo changeMount Laurel NJ14 months14 monthsNo changeNashville TN20 months20 monthsNo changeNewark NJ17.5 months17.5 monthsNo changeNew Orleans LA25.5 months25.5 monthsNo changeNew York City NY18 months18 monthsNo changeNorfolk VA21 months21 monthsNo changeOakland Park FL16.5 months16.5 monthsNo changeOklahoma City OK16 months16 monthsNo changeOmaha NE19.5 months19.5 monthsNo changeOrlando FL18 months18 monthsNo changePhiladelphia PA15 months15 monthsNo changePhoenix AZ14.5 months14.5 monthsNo changePittsburgh PA14.5 months14.5 monthsNo changePortland ME13.5 months13.5 monthsNo changePortland OR17 months17 monthsNo changeProvidence RI16.5 months16.5 monthsNo changeQueens NY21 months21 monthsNo changeRaleigh NC21 months21 monthsNo changeReno NV15 months15 monthsNo changeSacramento CA19 months19 monthsNo changeSaint Louis MO14.5 months14.5 monthsNo changeSalt Lake City UT34.5 months34.5 monthsNo changeSan Antonio TX17 months17 monthsNo changeSan Bernardino CA15 months15 monthsNo changeSan Diego CA18.5 months18.5 monthsNo changeSan Fernando Valley CA13 months13 monthsNo changeSan Francisco CA19 months19 monthsNo changeSan Jose CA14 months14 monthsNo changeSan Juan PR17.5 months17.5 monthsNo changeSanta Ana CA17 months17 monthsNo changeSeattle WA18 months18 monthsNo changeSpokane WA15.5 months15.5 monthsNo changeTampa FL15.5 months15.5 monthsNo changeTucson AZ13.5 months13.5 monthsNo changeWashington DC19 months19 monthsNo changeWest Palm Beach FL16.5 months16.5 monthsNo changeWichita KS15 months15 monthsNo changeYakima WA16.5 months16.5 monthsNo change Historical USCIS processing timesfor adjustment of status applications have been relatively consistent. In the last five years, the average median processing time for an adjustment of status application (Form I-485) was10 months. FY 2018FY 2019FY 2020FY 2021FY2022Form I-486: for all family-based adjustment applications10.6 months10 months8.8 months9.9 months11 months *USCIS does not track historical data for Form I-485 by eligibility category or family relationship. The above data is for Form I-485 for all family-based adjustment of status applications, which includes spouses, parents, and children (immediate relative or family member).'}\n",
      "{'category': 'USCIS Processing Times', 'question': 'Form I-765 Processing Times', 'answer': 'When you submit Form I-485 to adjust your status, you can also apply for a work permit (also called an employment authorization document or EAD). To do so, you need to fileForm I-765: Application for Employment Authorization. If you file both forms at the same time, you do not have to pay an additional filing fee for Form I-765. Prior to 2022, most applicants received their work permits 4–6 months after submitting their forms to USCIS. Current wait times are considerably longer, ranging from4.5–14 months. Here are the current processing times for marriage green card applicants who file Form I-765 at the same time as their Form I-485 to adjust status: USCIS Service CenterLast WeekThis WeekChange?California Service Center5.5 months5.5 monthsNo changeNational Benefits Center8 months8 monthsNo changeNebraska Service Center3.5 months3.5 monthsNo changeTexas Service Center11 months11 monthsNo changeVermont Service Center10 months10 monthsNo change'}\n",
      "{'category': 'USCIS Processing Times', 'question': 'Historical I-765* Work Authorization Application Processing Times: 2018–2022', 'answer': 'When you submit Form I-485 to adjust your status, you can also apply for a work permit (also called an employment authorization document or EAD). To do so, you need to fileForm I-765: Application for Employment Authorization. If you file both forms at the same time, you do not have to pay an additional filing fee for Form I-765. Prior to 2022, most applicants received their work permits 4–6 months after submitting their forms to USCIS. Current wait times are considerably longer, ranging from4.5–14 months. Here are the current processing times for marriage green card applicants who file Form I-765 at the same time as their Form I-485 to adjust status: USCIS Service CenterLast WeekThis WeekChange?California Service Center5.5 months5.5 monthsNo changeNational Benefits Center8 months8 monthsNo changeNebraska Service Center3.5 months3.5 monthsNo changeTexas Service Center11 months11 monthsNo changeVermont Service Center10 months10 monthsNo change USCIS processing timesfor work permit applications have been climbing in recent years. In the last five years, the average median processing time for a work authorization application (Form I-765) was3.6 months. Times have ranged from less than one month to 9.2 months, with the longest waiting period in the last five years being in 2022. FY 2018FY 2019FY 2020FY 2021FY2022Form I-765 based on pending I-4850.9 months2 months2.5 months3.2 months9.2 months *USCIS does not track historical data for Form I-765 by eligibility category or family relationship. The above data is for Form I-765 file concurrently with any family-based adjustment of status application, which includes spouses, parents, and children.'}\n",
      "{'category': 'USCIS Processing Times', 'question': 'How Long Will My Marriage Green Card Application Take?', 'answer': 'The entire marriage green card timeline can take 10–38 months.Several factors influence wait times, including processing delays — such as the continued backlog due to the pandemic — and staffing or budget issues at a given service center or field office. Aside from submitting your forms, you’ll need to submit supporting documents, undergo amedical examination,biometricsappointment, and agreen card interview. If you’re wondering what’s happening with your marriage green card case, you cancheck your case status onlineusing thereceipt numberfrom your application receipt notice. Our Learning Center contains several articles that can help youunderstand your case status. If your application is outside normal processing times, you cancontact USCISto ask for additional information.'}\n",
      "{'category': 'USCIS Processing Times', 'question': 'Form I-821D Processing Times', 'answer': 'Form I-821D: Consideration of Deferred Action for Childhood Arrivals is the main form you must submit toapply for DACA status. This is the same form you will use whether you are submitting afirst-time DACA applicationor applying torenew your DACA status.'}\n",
      "{'category': 'USCIS Processing Times', 'question': 'Initial DACA Application Processing Time', 'answer': 'To apply for initial DACA status, you must submit Form I-821D: Consideration of Deferred Action for Childhood Arrivals to\\xa0 U.S. Citizenship and Immigration Services (USCIS). Two USCIS Service Centers — the California Service Center and the Vermont Service Center — processinitial DACA applications. Here are the current processing times: USCIS Service CenterLast WeekThis WeekChange?CaliforniaNot processing**Not processing**No changeVermontNot processing**Not processing**No change **USCIS occasionally stops processing DACA forms due to policy changes. Check out ourDACA Newspage or theUSCIS DACA pagefor the latest information.'}\n",
      "{'category': 'USCIS Processing Times', 'question': 'Historical Initial DACA Application Processing Times: 2018–2022', 'answer': 'To apply for initial DACA status, you must submit Form I-821D: Consideration of Deferred Action for Childhood Arrivals to\\xa0 U.S. Citizenship and Immigration Services (USCIS). Two USCIS Service Centers — the California Service Center and the Vermont Service Center — processinitial DACA applications. Here are the current processing times: USCIS Service CenterLast WeekThis WeekChange?CaliforniaNot processing**Not processing**No changeVermontNot processing**Not processing**No change **USCIS occasionally stops processing DACA forms due to policy changes. Check out ourDACA Newspage or theUSCIS DACA pagefor the latest information. Historical USCIS processing timesfor initial applications have been several months longer than processing times for DACA renewal applications. Between 2018 and 2021, the average processing time for new DACA applications was7.6 months. FY 2018FY 2019FY 2020FY 2021FY 2022I-821D Request for Initial Deferred Action10.4 months8.9 months5.5 months5.9 monthsN/A** **USCIS occasionally stops processing DACA forms due to policy changes. Check out ourDACA Newspage or theUSCIS DACA pagefor the latest information.'}\n",
      "{'category': 'USCIS Processing Times', 'question': 'DACA Renewal Processing Time', 'answer': 'If you already have DACA status, you must apply to renew it every two years using Form I-821D. Two USCIS Service Centers — the Nebraska Service Center and the Vermont Service Center — processDACA renewals. Here are the current processing times: USCIS Service CenterLast WeekThis WeekChange?Nebraska Service CenterLess than 3 monthsLess than 3 monthsNo changeVermont Service Center29.5 months29.5 monthsNo change'}\n",
      "{'category': 'USCIS Processing Times', 'question': 'Historical DACA Renewal Application Processing Times: 2018–2022', 'answer': 'If you already have DACA status, you must apply to renew it every two years using Form I-821D. Two USCIS Service Centers — the Nebraska Service Center and the Vermont Service Center — processDACA renewals. Here are the current processing times: USCIS Service CenterLast WeekThis WeekChange?Nebraska Service CenterLess than 3 monthsLess than 3 monthsNo changeVermont Service Center29.5 months29.5 monthsNo change Historical USCIS processing timesfor DACA renewal applications have been relatively fast. For the last five years, the average processing time for DACA renewals was1.1 months. FY 2018FY 2019FY 2020FY 2021FY 2022I-821D Request for DACA Renewal1.2 months1.1 months1.1 months1.8 months0.5 months'}\n",
      "{'category': 'USCIS Processing Times', 'question': 'Form I-765 Processing Times', 'answer': 'Form I-765: Application for Employment Authorization Document (EAD) is another form in the DACA application. If USCIS approves your I-765, you get employment authorization — awork permit— which allows you to work legally in the United States. Note that DACA applicants must include theForm I-765 worksheetwith their DACA application packet. Three USCIS offices process the I-765 forms that approved DACA applicants file with Form I-821D when they renew. Here are the current processing times for each service center: USCIS Service CenterLast WeekThis WeekChange?CaliforniaNot processing**Not processing**No changeNebraskaLess than 3 monthsLess than 3 monthsNo changeVermont128 months128 monthsNo change **USCIS occasionally stops processing DACA forms due to policy changes. Check out ourDACA Newspage or theUSCIS Newsroomfor the latest information.'}\n",
      "{'category': 'USCIS Processing Times', 'question': 'Historical I-765 Work Authorization Application Processing Times: 2018–2022', 'answer': 'Form I-765: Application for Employment Authorization Document (EAD) is another form in the DACA application. If USCIS approves your I-765, you get employment authorization — awork permit— which allows you to work legally in the United States. Note that DACA applicants must include theForm I-765 worksheetwith their DACA application packet. Three USCIS offices process the I-765 forms that approved DACA applicants file with Form I-821D when they renew. Here are the current processing times for each service center: USCIS Service CenterLast WeekThis WeekChange?CaliforniaNot processing**Not processing**No changeNebraskaLess than 3 monthsLess than 3 monthsNo changeVermont128 months128 monthsNo change **USCIS occasionally stops processing DACA forms due to policy changes. Check out ourDACA Newspage or theUSCIS Newsroomfor the latest information. Historical USCIS processing times for work permits filed concurrently with Form I-821D have been relatively fast. For the last five years, the average median processing time was1.2 months. You can find a complete list of historicalprocessing times on the USCIS website. FY 2018FY 2019FY 2020FY 2021FY 2022I-765 Application for Employment Authorization (filed with Form I-821D)1.2 months1.1 months1.1 months1.9 months0.5 months'}\n",
      "{'category': 'USCIS Processing Times', 'question': 'Form I-131 Processing Times*', 'answer': 'If you wish to travel outside of the United States as a DACA recipient, you must fileForm I-131: Application for Travel Document. This form isn’t required for the general DACA application, but it allows you to getAdvance Paroleto travel outside the U.S. and return lawfully. USCIS Service CenterLast WeekThis WeekChange?California12.5 months12.5 monthsNo changeNational Benefits Center9 months9 monthsNo changeNebraska5.5 months5.5 monthsNo changeTexas17.5 months17.5 monthsNo changeVermont9 months9 monthsNo change *Under immigration law, immigrants with many different statuses may apply for Advance Parole if they need to travel internationally. USCIS tracks all Form I-131 data collectively, so the numbers above and below reflect wait times for Form I-131 filed for any reason, not just DACA recipients filing for permission to travel.'}\n",
      "{'category': 'USCIS Processing Times', 'question': 'Historical Form I-131 Advance Parole Application Processing Times: 2018–2022', 'answer': 'If you wish to travel outside of the United States as a DACA recipient, you must fileForm I-131: Application for Travel Document. This form isn’t required for the general DACA application, but it allows you to getAdvance Paroleto travel outside the U.S. and return lawfully. USCIS Service CenterLast WeekThis WeekChange?California12.5 months12.5 monthsNo changeNational Benefits Center9 months9 monthsNo changeNebraska5.5 months5.5 monthsNo changeTexas17.5 months17.5 monthsNo changeVermont9 months9 monthsNo change *Under immigration law, immigrants with many different statuses may apply for Advance Parole if they need to travel internationally. USCIS tracks all Form I-131 data collectively, so the numbers above and below reflect wait times for Form I-131 filed for any reason, not just DACA recipients filing for permission to travel. For the last five years, the average median USCIS processing time for Form I-131 was5.5 monthsaccording todata from USCIS.gov. FY 2018FY 2019FY 2020FY 2021FY 2022I-131 Application for Travel Document (Advance Parole)3.6 months4.5 months4.6 months7.7 months7.3 months'}\n",
      "{'category': 'USCIS Processing Times', 'question': 'How Long Will My DACA Application Take?', 'answer': 'DACA processing times vary widely. USCIS is not currently processing new DACA applications, but it processes DACA renewals in an average of13 months. Several factors can cause processing delaysand affect wait times, including the COVID-19 pandemic, the USCIS backlog, and which service center or field office is processing your application. If you’re wondering what’s happening with your DACA application, you cancheck your case status onlineusing thereceipt numberfrom your application receipt notice. Our Learning Center contains several articles that can help youunderstand your case status. If your application is outside normal processing times, you cancontact USCISto ask for additional information.'}\n"
     ]
    }
   ],
   "source": [
    "for i in range(-20,-1):\n",
    "    print(dataset[i])"
   ]
  },
  {
   "cell_type": "code",
   "execution_count": 49,
   "id": "fe9465f4-5cd5-443f-b763-87e8337f41f8",
   "metadata": {},
   "outputs": [
    {
     "data": {
      "text/plain": [
       "'for i in range(-20,-1):\\n    print(cleaned_dataset[i])'"
      ]
     },
     "execution_count": 49,
     "metadata": {},
     "output_type": "execute_result"
    }
   ],
   "source": [
    "'''for i in range(-20,-1):\n",
    "    print(cleaned_dataset[i])'''"
   ]
  },
  {
   "cell_type": "code",
   "execution_count": 50,
   "id": "fcb87720-f7ae-4331-87f8-7efb7f1eca6a",
   "metadata": {},
   "outputs": [
    {
     "data": {
      "text/plain": [
       "Dataset({\n",
       "    features: ['category', 'question', 'answer'],\n",
       "    num_rows: 4558\n",
       "})"
      ]
     },
     "execution_count": 50,
     "metadata": {},
     "output_type": "execute_result"
    }
   ],
   "source": [
    "dataset"
   ]
  },
  {
   "cell_type": "code",
   "execution_count": 8,
   "id": "c2c0b3f9-8912-49a0-a1d0-37b3dedad010",
   "metadata": {},
   "outputs": [],
   "source": [
    "from transformers import T5Tokenizer, T5ForConditionalGeneration, Trainer, TrainingArguments\n",
    "from datasets import Dataset, DatasetDict\n",
    "import torch"
   ]
  },
  {
   "cell_type": "code",
   "execution_count": 9,
   "id": "77229e70-606e-4c43-8d3f-f829df2d8120",
   "metadata": {},
   "outputs": [
    {
     "name": "stderr",
     "output_type": "stream",
     "text": [
      "You are using the default legacy behaviour of the <class 'transformers.models.t5.tokenization_t5.T5Tokenizer'>. This is expected, and simply means that the `legacy` (previous) behavior will be used so nothing changes for you. If you want to use the new behaviour, set `legacy=False`. This should only be set if you understand what it means, and thoroughly read the reason why this was added as explained in https://github.com/huggingface/transformers/pull/24565\n"
     ]
    },
    {
     "data": {
      "application/vnd.jupyter.widget-view+json": {
       "model_id": "8b42074069804c2eb718f4a1003a0183",
       "version_major": 2,
       "version_minor": 0
      },
      "text/plain": [
       "Map:   0%|          | 0/4558 [00:00<?, ? examples/s]"
      ]
     },
     "metadata": {},
     "output_type": "display_data"
    },
    {
     "name": "stdout",
     "output_type": "stream",
     "text": [
      "{'category': 'Green Cards', 'question': 'What Is Green Card Abandonment?', 'answer': 'Green card abandonment is also known as an abandonment of lawful permanent resident status or LPR status. It can occur in two ways under immigration law: You give up your permanent resident card voluntarily, orU.S. Citizenship and Immigration Services (USCIS) takes your green card from you.', 'input_ids': [1862, 18085, 10, 363, 27, 7, 1862, 4955, 891, 232, 106, 297, 58, 1, 0, 0, 0, 0, 0, 0, 0, 0, 0, 0, 0, 0, 0, 0, 0, 0, 0, 0, 0, 0, 0, 0, 0, 0, 0, 0, 0, 0, 0, 0, 0, 0, 0, 0, 0, 0, 0, 0, 0, 0, 0, 0, 0, 0, 0, 0, 0, 0, 0, 0, 0, 0, 0, 0, 0, 0, 0, 0, 0, 0, 0, 0, 0, 0, 0, 0, 0, 0, 0, 0, 0, 0, 0, 0, 0, 0, 0, 0, 0, 0, 0, 0, 0, 0, 0, 0, 0, 0, 0, 0, 0, 0, 0, 0, 0, 0, 0, 0, 0, 0, 0, 0, 0, 0, 0, 0, 0, 0, 0, 0, 0, 0, 0, 0], 'attention_mask': [1, 1, 1, 1, 1, 1, 1, 1, 1, 1, 1, 1, 1, 1, 0, 0, 0, 0, 0, 0, 0, 0, 0, 0, 0, 0, 0, 0, 0, 0, 0, 0, 0, 0, 0, 0, 0, 0, 0, 0, 0, 0, 0, 0, 0, 0, 0, 0, 0, 0, 0, 0, 0, 0, 0, 0, 0, 0, 0, 0, 0, 0, 0, 0, 0, 0, 0, 0, 0, 0, 0, 0, 0, 0, 0, 0, 0, 0, 0, 0, 0, 0, 0, 0, 0, 0, 0, 0, 0, 0, 0, 0, 0, 0, 0, 0, 0, 0, 0, 0, 0, 0, 0, 0, 0, 0, 0, 0, 0, 0, 0, 0, 0, 0, 0, 0, 0, 0, 0, 0, 0, 0, 0, 0, 0, 0, 0, 0], 'labels': [1862, 895, 10755, 297, 19, 92, 801, 38, 46, 10755, 297, 13, 973, 1329, 3574, 8141, 2637, 42, 301, 5554, 2637, 5, 94, 54, 4093, 16, 192, 1155, 365, 10653, 973, 10, 148, 428, 95, 39, 3574, 8141, 895, 3, 26704, 6, 42, 1265, 5, 134, 5, 22540, 10462, 11, 24123, 1799, 41, 3063, 21134, 61, 1217, 39, 1442, 895, 45, 25, 5, 1, 0, 0, 0, 0, 0, 0, 0, 0, 0, 0, 0, 0, 0, 0, 0, 0, 0, 0, 0, 0, 0, 0, 0, 0, 0, 0, 0, 0, 0, 0, 0, 0, 0, 0, 0, 0, 0, 0, 0, 0, 0, 0, 0, 0, 0, 0, 0, 0, 0, 0, 0, 0, 0, 0, 0, 0, 0, 0, 0, 0, 0, 0, 0, 0]}\n"
     ]
    }
   ],
   "source": [
    "# Assuming your dataset is loaded into a Dataset object (cleaned_dataset)\n",
    "# Tokenizer and model initialization\n",
    "tokenizer = T5Tokenizer.from_pretrained(\"t5-small\")\n",
    "model = T5ForConditionalGeneration.from_pretrained(\"t5-small\")\n",
    "\n",
    "# Tokenization function for handling batch input\n",
    "def tokenize_function(examples):\n",
    "    # Concatenate category and question for each example using list comprehension\n",
    "    inputs = tokenizer([f\"{category}: {question}\" for category, question in zip(examples['category'], examples['question'])],\n",
    "                       padding=\"max_length\", truncation=True, max_length=128)\n",
    "    \n",
    "    # Tokenize answers\n",
    "    outputs = tokenizer(examples['answer'], padding=\"max_length\", truncation=True, max_length=128)\n",
    "    \n",
    "    # Set the labels to the tokenized answers\n",
    "    inputs['labels'] = outputs['input_ids']\n",
    "    \n",
    "    return inputs\n",
    "\n",
    "# Apply tokenization to the dataset\n",
    "tokenized_datasets = dataset.map(tokenize_function, batched=True)\n",
    "\n",
    "# Check the structure of the first tokenized entry\n",
    "print(tokenized_datasets[0])"
   ]
  },
  {
   "cell_type": "code",
   "execution_count": 10,
   "id": "6a956b95-cdb8-4685-94d3-ad7b86790b26",
   "metadata": {},
   "outputs": [],
   "source": [
    "train_test_split = tokenized_datasets.train_test_split(test_size=0.1)  # 10% for testing\n",
    "\n",
    "train_dataset = train_test_split['train']\n",
    "test_dataset = train_test_split['test']\n"
   ]
  },
  {
   "cell_type": "code",
   "execution_count": 11,
   "id": "a41e8d8a-c2f9-411d-ad18-08226a8d14f4",
   "metadata": {},
   "outputs": [
    {
     "data": {
      "text/plain": [
       "Dataset({\n",
       "    features: ['category', 'question', 'answer', 'input_ids', 'attention_mask', 'labels'],\n",
       "    num_rows: 4102\n",
       "})"
      ]
     },
     "execution_count": 11,
     "metadata": {},
     "output_type": "execute_result"
    }
   ],
   "source": [
    "train_dataset"
   ]
  },
  {
   "cell_type": "code",
   "execution_count": 12,
   "id": "b4e31cf5-f229-47a8-8bc4-c69ce2022072",
   "metadata": {},
   "outputs": [
    {
     "data": {
      "text/plain": [
       "Dataset({\n",
       "    features: ['category', 'question', 'answer', 'input_ids', 'attention_mask', 'labels'],\n",
       "    num_rows: 456\n",
       "})"
      ]
     },
     "execution_count": 12,
     "metadata": {},
     "output_type": "execute_result"
    }
   ],
   "source": [
    "test_dataset"
   ]
  },
  {
   "cell_type": "code",
   "execution_count": 13,
   "id": "2af2f7a1-4f12-462c-b6c9-5dc67674e999",
   "metadata": {},
   "outputs": [
    {
     "data": {
      "text/plain": [
       "{'category': 'Green Cards',\n",
       " 'question': 'Backlog for F2A (second preference) Green Cards: Spouses and Children of Permanent Residents',\n",
       " 'answer': 'There were very few changes in green card backlogs for the family-based green card categories for the month of September. The green card backlog in theF2Acategory saw a1 month decreasefor all countries while all other categories saw no change in wait times.  There wereno changesin the green card backlog in the F1 category compared to last month. CountryCut-Off DatePrevious Cut-Off DateChange in Wait TimeCurrent Estimated Wait TimeAll other countriesSept. 1, 2017Sept. 1, 2017No change5 years, 10 monthsChina - mainland bornSept. 1, 2017Sept. 1, 2017No change5 years, 10 monthsIndiaSept. 1, 2017Sept. 1, 2017No change5 years, 10 monthsMexicoApril 1, 2005April 1, 2005No change18 years, 3 monthsPhilippinesApril 22, 2015April 22, 2015No change8 years, 2 month There was about a1 month decreasein then green card backlog in the F2A category compared to last month. CountryCut-Off DatePrevious Cut-Off DateChange in Wait TimeCurrent Estimated Wait TimeAll other countriesSept. 1, 2023Current- 1 month, 25 daysNoneChina - mainland bornSept. 1, 2023Current- 1 month, 25 daysNoneIndiaSept. 1, 2023Current- 1 month, 25 daysNoneMexicoSept. 1, 2023Current- 1 month, 25 daysNonePhilippinesSept. 1, 2023Current- 1 month, 25 daysNone',\n",
       " 'input_ids': [1862,\n",
       "  18085,\n",
       "  10,\n",
       "  3195,\n",
       "  2152,\n",
       "  21,\n",
       "  377,\n",
       "  357,\n",
       "  188,\n",
       "  41,\n",
       "  12091,\n",
       "  11633,\n",
       "  61,\n",
       "  1862,\n",
       "  18085,\n",
       "  10,\n",
       "  8927,\n",
       "  1074,\n",
       "  7,\n",
       "  11,\n",
       "  4351,\n",
       "  13,\n",
       "  23996,\n",
       "  24998,\n",
       "  1,\n",
       "  0,\n",
       "  0,\n",
       "  0,\n",
       "  0,\n",
       "  0,\n",
       "  0,\n",
       "  0,\n",
       "  0,\n",
       "  0,\n",
       "  0,\n",
       "  0,\n",
       "  0,\n",
       "  0,\n",
       "  0,\n",
       "  0,\n",
       "  0,\n",
       "  0,\n",
       "  0,\n",
       "  0,\n",
       "  0,\n",
       "  0,\n",
       "  0,\n",
       "  0,\n",
       "  0,\n",
       "  0,\n",
       "  0,\n",
       "  0,\n",
       "  0,\n",
       "  0,\n",
       "  0,\n",
       "  0,\n",
       "  0,\n",
       "  0,\n",
       "  0,\n",
       "  0,\n",
       "  0,\n",
       "  0,\n",
       "  0,\n",
       "  0,\n",
       "  0,\n",
       "  0,\n",
       "  0,\n",
       "  0,\n",
       "  0,\n",
       "  0,\n",
       "  0,\n",
       "  0,\n",
       "  0,\n",
       "  0,\n",
       "  0,\n",
       "  0,\n",
       "  0,\n",
       "  0,\n",
       "  0,\n",
       "  0,\n",
       "  0,\n",
       "  0,\n",
       "  0,\n",
       "  0,\n",
       "  0,\n",
       "  0,\n",
       "  0,\n",
       "  0,\n",
       "  0,\n",
       "  0,\n",
       "  0,\n",
       "  0,\n",
       "  0,\n",
       "  0,\n",
       "  0,\n",
       "  0,\n",
       "  0,\n",
       "  0,\n",
       "  0,\n",
       "  0,\n",
       "  0,\n",
       "  0,\n",
       "  0,\n",
       "  0,\n",
       "  0,\n",
       "  0,\n",
       "  0,\n",
       "  0,\n",
       "  0,\n",
       "  0,\n",
       "  0,\n",
       "  0,\n",
       "  0,\n",
       "  0,\n",
       "  0,\n",
       "  0,\n",
       "  0,\n",
       "  0,\n",
       "  0,\n",
       "  0,\n",
       "  0,\n",
       "  0,\n",
       "  0,\n",
       "  0,\n",
       "  0,\n",
       "  0,\n",
       "  0,\n",
       "  0],\n",
       " 'attention_mask': [1,\n",
       "  1,\n",
       "  1,\n",
       "  1,\n",
       "  1,\n",
       "  1,\n",
       "  1,\n",
       "  1,\n",
       "  1,\n",
       "  1,\n",
       "  1,\n",
       "  1,\n",
       "  1,\n",
       "  1,\n",
       "  1,\n",
       "  1,\n",
       "  1,\n",
       "  1,\n",
       "  1,\n",
       "  1,\n",
       "  1,\n",
       "  1,\n",
       "  1,\n",
       "  1,\n",
       "  1,\n",
       "  0,\n",
       "  0,\n",
       "  0,\n",
       "  0,\n",
       "  0,\n",
       "  0,\n",
       "  0,\n",
       "  0,\n",
       "  0,\n",
       "  0,\n",
       "  0,\n",
       "  0,\n",
       "  0,\n",
       "  0,\n",
       "  0,\n",
       "  0,\n",
       "  0,\n",
       "  0,\n",
       "  0,\n",
       "  0,\n",
       "  0,\n",
       "  0,\n",
       "  0,\n",
       "  0,\n",
       "  0,\n",
       "  0,\n",
       "  0,\n",
       "  0,\n",
       "  0,\n",
       "  0,\n",
       "  0,\n",
       "  0,\n",
       "  0,\n",
       "  0,\n",
       "  0,\n",
       "  0,\n",
       "  0,\n",
       "  0,\n",
       "  0,\n",
       "  0,\n",
       "  0,\n",
       "  0,\n",
       "  0,\n",
       "  0,\n",
       "  0,\n",
       "  0,\n",
       "  0,\n",
       "  0,\n",
       "  0,\n",
       "  0,\n",
       "  0,\n",
       "  0,\n",
       "  0,\n",
       "  0,\n",
       "  0,\n",
       "  0,\n",
       "  0,\n",
       "  0,\n",
       "  0,\n",
       "  0,\n",
       "  0,\n",
       "  0,\n",
       "  0,\n",
       "  0,\n",
       "  0,\n",
       "  0,\n",
       "  0,\n",
       "  0,\n",
       "  0,\n",
       "  0,\n",
       "  0,\n",
       "  0,\n",
       "  0,\n",
       "  0,\n",
       "  0,\n",
       "  0,\n",
       "  0,\n",
       "  0,\n",
       "  0,\n",
       "  0,\n",
       "  0,\n",
       "  0,\n",
       "  0,\n",
       "  0,\n",
       "  0,\n",
       "  0,\n",
       "  0,\n",
       "  0,\n",
       "  0,\n",
       "  0,\n",
       "  0,\n",
       "  0,\n",
       "  0,\n",
       "  0,\n",
       "  0,\n",
       "  0,\n",
       "  0,\n",
       "  0,\n",
       "  0,\n",
       "  0,\n",
       "  0,\n",
       "  0,\n",
       "  0],\n",
       " 'labels': [290,\n",
       "  130,\n",
       "  182,\n",
       "  360,\n",
       "  1112,\n",
       "  16,\n",
       "  1442,\n",
       "  895,\n",
       "  223,\n",
       "  2152,\n",
       "  7,\n",
       "  21,\n",
       "  8,\n",
       "  384,\n",
       "  18,\n",
       "  390,\n",
       "  1442,\n",
       "  895,\n",
       "  5897,\n",
       "  21,\n",
       "  8,\n",
       "  847,\n",
       "  13,\n",
       "  1600,\n",
       "  5,\n",
       "  37,\n",
       "  1442,\n",
       "  895,\n",
       "  223,\n",
       "  2152,\n",
       "  16,\n",
       "  8,\n",
       "  371,\n",
       "  357,\n",
       "  188,\n",
       "  8367,\n",
       "  839,\n",
       "  651,\n",
       "  1509,\n",
       "  3,\n",
       "  9,\n",
       "  536,\n",
       "  847,\n",
       "  6313,\n",
       "  1161,\n",
       "  66,\n",
       "  1440,\n",
       "  298,\n",
       "  66,\n",
       "  119,\n",
       "  5897,\n",
       "  1509,\n",
       "  150,\n",
       "  483,\n",
       "  16,\n",
       "  1749,\n",
       "  648,\n",
       "  5,\n",
       "  290,\n",
       "  9355,\n",
       "  32,\n",
       "  1112,\n",
       "  77,\n",
       "  8,\n",
       "  1442,\n",
       "  895,\n",
       "  223,\n",
       "  2152,\n",
       "  16,\n",
       "  8,\n",
       "  377,\n",
       "  536,\n",
       "  3295,\n",
       "  3,\n",
       "  2172,\n",
       "  12,\n",
       "  336,\n",
       "  847,\n",
       "  5,\n",
       "  6993,\n",
       "  15784,\n",
       "  17,\n",
       "  18,\n",
       "  21265,\n",
       "  7678,\n",
       "  10572,\n",
       "  19117,\n",
       "  6868,\n",
       "  18,\n",
       "  21265,\n",
       "  7678,\n",
       "  3541,\n",
       "  3280,\n",
       "  16,\n",
       "  14583,\n",
       "  2900,\n",
       "  254,\n",
       "  450,\n",
       "  5320,\n",
       "  23621,\n",
       "  15,\n",
       "  26,\n",
       "  14583,\n",
       "  2900,\n",
       "  6838,\n",
       "  119,\n",
       "  1440,\n",
       "  134,\n",
       "  6707,\n",
       "  5,\n",
       "  1914,\n",
       "  1233,\n",
       "  134,\n",
       "  6707,\n",
       "  5,\n",
       "  1914,\n",
       "  1233,\n",
       "  4168,\n",
       "  483,\n",
       "  755,\n",
       "  203,\n",
       "  6,\n",
       "  335,\n",
       "  767,\n",
       "  26154,\n",
       "  3,\n",
       "  18,\n",
       "  1]}"
      ]
     },
     "execution_count": 13,
     "metadata": {},
     "output_type": "execute_result"
    }
   ],
   "source": [
    "train_dataset[0]"
   ]
  },
  {
   "cell_type": "code",
   "execution_count": 22,
   "id": "408f51af-bb29-4fd2-bffc-59d01d6aeb0e",
   "metadata": {},
   "outputs": [],
   "source": [
    "training_args = TrainingArguments(\n",
    "    output_dir=\"./results\",  # Save model checkpoints here\n",
    "    eval_strategy=\"epoch\",  # Evaluate after every epoch\n",
    "    learning_rate=1e-4,  # Learning rate\n",
    "    per_device_train_batch_size=8,  # Batch size for training\n",
    "    per_device_eval_batch_size=8,  # Batch size for evaluation\n",
    "    num_train_epochs=15,  # Number of epochs for fine-tuning\n",
    "    weight_decay=0.01,  # Weight decay for regularization\n",
    "    logging_dir='./logs',  # Directory for storing logs\n",
    "    logging_steps=10,  # Log every 10 steps\n",
    ")\n"
   ]
  },
  {
   "cell_type": "code",
   "execution_count": 23,
   "id": "7bd860f2-a722-44fc-9f67-2d1b6b1cb467",
   "metadata": {},
   "outputs": [],
   "source": [
    "from transformers import DataCollatorForSeq2Seq\n",
    "\n",
    "trainer = Trainer(\n",
    "    model=model,  # The model to fine-tune\n",
    "    args=training_args,  # The training arguments we defined earlier\n",
    "    train_dataset=train_dataset,  # The training dataset\n",
    "    eval_dataset=test_dataset,  # The evaluation dataset\n",
    "    data_collator=DataCollatorForSeq2Seq(tokenizer, model),  # The tokenizer for handling tokenization during training\n",
    ")"
   ]
  },
  {
   "cell_type": "code",
   "execution_count": 24,
   "id": "d5a25bde-4326-45c1-9e02-9f879c1413ea",
   "metadata": {},
   "outputs": [
    {
     "name": "stdout",
     "output_type": "stream",
     "text": [
      "Evaluating model before fine-tuning...\n"
     ]
    },
    {
     "data": {
      "text/html": [
       "\n",
       "    <div>\n",
       "      \n",
       "      <progress value='114' max='57' style='width:300px; height:20px; vertical-align: middle;'></progress>\n",
       "      [57/57 03:50]\n",
       "    </div>\n",
       "    "
      ],
      "text/plain": [
       "<IPython.core.display.HTML object>"
      ]
     },
     "metadata": {},
     "output_type": "display_data"
    },
    {
     "name": "stdout",
     "output_type": "stream",
     "text": [
      "{'eval_loss': 2.503267526626587, 'eval_model_preparation_time': 0.0201, 'eval_runtime': 5.5365, 'eval_samples_per_second': 82.362, 'eval_steps_per_second': 10.295}\n"
     ]
    }
   ],
   "source": [
    "# Evaluate before fine-tuning\n",
    "print(\"Evaluating model before fine-tuning...\")\n",
    "eval_results_before = trainer.evaluate()\n",
    "print(eval_results_before)"
   ]
  },
  {
   "cell_type": "code",
   "execution_count": 25,
   "id": "4974ad78-6387-412a-9072-49f00f686fbe",
   "metadata": {},
   "outputs": [
    {
     "data": {
      "text/html": [
       "\n",
       "    <div>\n",
       "      \n",
       "      <progress value='7695' max='7695' style='width:300px; height:20px; vertical-align: middle;'></progress>\n",
       "      [7695/7695 33:58, Epoch 15/15]\n",
       "    </div>\n",
       "    <table border=\"1\" class=\"dataframe\">\n",
       "  <thead>\n",
       " <tr style=\"text-align: left;\">\n",
       "      <th>Epoch</th>\n",
       "      <th>Training Loss</th>\n",
       "      <th>Validation Loss</th>\n",
       "      <th>Model Preparation Time</th>\n",
       "    </tr>\n",
       "  </thead>\n",
       "  <tbody>\n",
       "    <tr>\n",
       "      <td>1</td>\n",
       "      <td>2.467400</td>\n",
       "      <td>2.308949</td>\n",
       "      <td>0.020100</td>\n",
       "    </tr>\n",
       "    <tr>\n",
       "      <td>2</td>\n",
       "      <td>2.503300</td>\n",
       "      <td>2.167284</td>\n",
       "      <td>0.020100</td>\n",
       "    </tr>\n",
       "    <tr>\n",
       "      <td>3</td>\n",
       "      <td>2.245900</td>\n",
       "      <td>2.062258</td>\n",
       "      <td>0.020100</td>\n",
       "    </tr>\n",
       "    <tr>\n",
       "      <td>4</td>\n",
       "      <td>2.249200</td>\n",
       "      <td>1.977187</td>\n",
       "      <td>0.020100</td>\n",
       "    </tr>\n",
       "    <tr>\n",
       "      <td>5</td>\n",
       "      <td>2.166100</td>\n",
       "      <td>1.908012</td>\n",
       "      <td>0.020100</td>\n",
       "    </tr>\n",
       "    <tr>\n",
       "      <td>6</td>\n",
       "      <td>1.946500</td>\n",
       "      <td>1.851682</td>\n",
       "      <td>0.020100</td>\n",
       "    </tr>\n",
       "    <tr>\n",
       "      <td>7</td>\n",
       "      <td>1.936100</td>\n",
       "      <td>1.802684</td>\n",
       "      <td>0.020100</td>\n",
       "    </tr>\n",
       "    <tr>\n",
       "      <td>8</td>\n",
       "      <td>1.953600</td>\n",
       "      <td>1.762314</td>\n",
       "      <td>0.020100</td>\n",
       "    </tr>\n",
       "    <tr>\n",
       "      <td>9</td>\n",
       "      <td>1.931000</td>\n",
       "      <td>1.730718</td>\n",
       "      <td>0.020100</td>\n",
       "    </tr>\n",
       "    <tr>\n",
       "      <td>10</td>\n",
       "      <td>2.000000</td>\n",
       "      <td>1.703394</td>\n",
       "      <td>0.020100</td>\n",
       "    </tr>\n",
       "    <tr>\n",
       "      <td>11</td>\n",
       "      <td>2.012800</td>\n",
       "      <td>1.683581</td>\n",
       "      <td>0.020100</td>\n",
       "    </tr>\n",
       "    <tr>\n",
       "      <td>12</td>\n",
       "      <td>1.895800</td>\n",
       "      <td>1.667521</td>\n",
       "      <td>0.020100</td>\n",
       "    </tr>\n",
       "    <tr>\n",
       "      <td>13</td>\n",
       "      <td>1.712900</td>\n",
       "      <td>1.655378</td>\n",
       "      <td>0.020100</td>\n",
       "    </tr>\n",
       "    <tr>\n",
       "      <td>14</td>\n",
       "      <td>1.800400</td>\n",
       "      <td>1.648662</td>\n",
       "      <td>0.020100</td>\n",
       "    </tr>\n",
       "    <tr>\n",
       "      <td>15</td>\n",
       "      <td>1.826400</td>\n",
       "      <td>1.646347</td>\n",
       "      <td>0.020100</td>\n",
       "    </tr>\n",
       "  </tbody>\n",
       "</table><p>"
      ],
      "text/plain": [
       "<IPython.core.display.HTML object>"
      ]
     },
     "metadata": {},
     "output_type": "display_data"
    },
    {
     "data": {
      "text/plain": [
       "TrainOutput(global_step=7695, training_loss=2.083054440791457, metrics={'train_runtime': 2039.2622, 'train_samples_per_second': 30.173, 'train_steps_per_second': 3.773, 'total_flos': 2081895261143040.0, 'train_loss': 2.083054440791457, 'epoch': 15.0})"
      ]
     },
     "execution_count": 25,
     "metadata": {},
     "output_type": "execute_result"
    }
   ],
   "source": [
    "# Fine-tune the model\n",
    "trainer.train()"
   ]
  },
  {
   "cell_type": "code",
   "execution_count": 21,
   "id": "baf860b3-6319-4104-8061-2b92f8bbda1c",
   "metadata": {},
   "outputs": [
    {
     "name": "stdout",
     "output_type": "stream",
     "text": [
      "Evaluating model after fine-tuning...\n"
     ]
    },
    {
     "data": {
      "text/html": [
       "\n",
       "    <div>\n",
       "      \n",
       "      <progress value='57' max='57' style='width:300px; height:20px; vertical-align: middle;'></progress>\n",
       "      [57/57 00:04]\n",
       "    </div>\n",
       "    "
      ],
      "text/plain": [
       "<IPython.core.display.HTML object>"
      ]
     },
     "metadata": {},
     "output_type": "display_data"
    },
    {
     "name": "stdout",
     "output_type": "stream",
     "text": [
      "{'eval_loss': 2.503267526626587, 'eval_model_preparation_time': 0.0056, 'eval_runtime': 5.0822, 'eval_samples_per_second': 89.725, 'eval_steps_per_second': 11.216, 'epoch': 3.0}\n"
     ]
    }
   ],
   "source": [
    "# Evaluate after fine-tuning\n",
    "print(\"Evaluating model after fine-tuning...\")\n",
    "eval_results_after = trainer.evaluate()\n",
    "print(eval_results_after)"
   ]
  },
  {
   "cell_type": "code",
   "execution_count": 26,
   "id": "2fd028c4-d5fb-4018-9f17-ad4ed4f971de",
   "metadata": {},
   "outputs": [
    {
     "name": "stdout",
     "output_type": "stream",
     "text": [
      "Evaluating model after fine-tuning...\n"
     ]
    },
    {
     "data": {
      "text/html": [
       "\n",
       "    <div>\n",
       "      \n",
       "      <progress value='57' max='57' style='width:300px; height:20px; vertical-align: middle;'></progress>\n",
       "      [57/57 00:04]\n",
       "    </div>\n",
       "    "
      ],
      "text/plain": [
       "<IPython.core.display.HTML object>"
      ]
     },
     "metadata": {},
     "output_type": "display_data"
    },
    {
     "name": "stdout",
     "output_type": "stream",
     "text": [
      "{'eval_loss': 1.6463465690612793, 'eval_model_preparation_time': 0.0201, 'eval_runtime': 4.4633, 'eval_samples_per_second': 102.167, 'eval_steps_per_second': 12.771, 'epoch': 15.0}\n"
     ]
    }
   ],
   "source": [
    "# Evaluate after fine-tuning\n",
    "print(\"Evaluating model after fine-tuning...\")\n",
    "eval_results_after = trainer.evaluate()\n",
    "print(eval_results_after)"
   ]
  },
  {
   "cell_type": "code",
   "execution_count": 27,
   "id": "cc82d0af-e9de-4258-ab80-d1c4fd8dd749",
   "metadata": {},
   "outputs": [
    {
     "data": {
      "text/plain": [
       "('./fine_tuned_t5/tokenizer_config.json',\n",
       " './fine_tuned_t5/special_tokens_map.json',\n",
       " './fine_tuned_t5/spiece.model',\n",
       " './fine_tuned_t5/added_tokens.json')"
      ]
     },
     "execution_count": 27,
     "metadata": {},
     "output_type": "execute_result"
    }
   ],
   "source": [
    "# Save the fine-tuned model and tokenizer\n",
    "model.save_pretrained(\"./fine_tuned_t5\")\n",
    "tokenizer.save_pretrained(\"./fine_tuned_t5\")"
   ]
  },
  {
   "cell_type": "code",
   "execution_count": null,
   "id": "216c67ee-77af-4a30-85a8-46eda04e5fbf",
   "metadata": {},
   "outputs": [],
   "source": [
    "'''with open(modelPath, \"wb\") as f:\n",
    "        pickle.dump(model, f)\n",
    "    with open(modelPath, \"rb\") as f:\n",
    "        model = pickle.load(f)'''"
   ]
  }
 ],
 "metadata": {
  "kernelspec": {
   "display_name": "Research Environment",
   "language": "python",
   "name": "research_env"
  },
  "language_info": {
   "codemirror_mode": {
    "name": "ipython",
    "version": 3
   },
   "file_extension": ".py",
   "mimetype": "text/x-python",
   "name": "python",
   "nbconvert_exporter": "python",
   "pygments_lexer": "ipython3",
   "version": "3.12.4"
  }
 },
 "nbformat": 4,
 "nbformat_minor": 5
}
