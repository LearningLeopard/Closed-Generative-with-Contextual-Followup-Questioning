{
 "cells": [
  {
   "cell_type": "code",
   "execution_count": null,
   "metadata": {},
   "outputs": [],
   "source": [
    "from datasets import load_from_disk\n",
    "from trl import SFTConfig, SFTTrainer\n",
    "from transformers import AutoModelForSeq2SeqLM, AutoTokenizer, DataCollatorForSeq2Seq, AutoConfig, TrainingArguments, Trainer\n",
    "import torch\n",
    "import torch.nn as nn\n",
    "import numpy as np\n",
    "from torch.utils.data import DataLoader"
   ]
  },
  {
   "cell_type": "code",
   "execution_count": null,
   "metadata": {},
   "outputs": [],
   "source": [
    "CHECKPOINT = \"MaRiOrOsSi/t5-base-finetuned-question-answering\"\n",
    "DATASET_PATH = \"../Datasets/Visa_QA_V3/\""
   ]
  },
  {
   "cell_type": "code",
   "execution_count": null,
   "metadata": {},
   "outputs": [],
   "source": [
    "## Tokenization code\n",
    "checkpoint_tokenizer = AutoTokenizer.from_pretrained(CHECKPOINT, return_tensors='pt')\n",
    "def tokenize_and_create_prompt(sample):\n",
    "    question_string = sample['question']\n",
    "    tags_meta_data = sample['meta_tags'].split(\",\")\n",
    "    prompt = f\"\"\"\n",
    "    You are an expert in dealing with questions of immigration and international travel. Answer the following question and use the keywords to get some hints about the answer and context\n",
    "    Question: {question_string} Keywords: {\", \".join(tags_meta_data)}\n",
    "    \"\"\"\n",
    "    tokenized_output = checkpoint_tokenizer(prompt, add_special_tokens=True)\n",
    "    return tokenized_output"
   ]
  },
  {
   "cell_type": "code",
   "execution_count": null,
   "metadata": {},
   "outputs": [],
   "source": [
    "visa_qa_dataset = load_from_disk(DATASET_PATH)\n",
    "preprocessed_visa_questions = visa_qa_dataset.map(tokenize_and_create_prompt)"
   ]
  },
  {
   "cell_type": "code",
   "execution_count": null,
   "metadata": {},
   "outputs": [],
   "source": [
    "qa_model = AutoModelForSeq2SeqLM(CHECKPOINT,\n",
    "                                 config=AutoConfig.from_pretrained(CHECKPOINT))\n"
   ]
  },
  {
   "cell_type": "code",
   "execution_count": null,
   "metadata": {},
   "outputs": [],
   "source": [
    "ques_data_collator = DataCollatorForSeq2Seq(checkpoint_tokenizer, model=qa_model)\n",
    "train_args = TrainingArguments(\n",
    "    output_dir=\"../Model_Checkpoints/closed-generative-qa\",\n",
    "    num_train_epochs=1,\n",
    "    warmup_steps=500,\n",
    "    weight_decay=0.01,\n",
    "    logging_steps=10,\n",
    "    evaluation_strategy=\"steps\",\n",
    "    eval_steps=500,\n",
    "    save_steps=1e6,\n",
    "    gradient_accumulation_steps=16\n",
    ")\n",
    "\n",
    "trainer = Trainer(\n",
    "    model=qa_model,\n",
    "    args=train_args,\n",
    "    data_collator=ques_data_collator,\n",
    "    train_dataset=preprocessed_visa_questions['train'],\n",
    "    eval_dataset=preprocessed_visa_questions['validation']\n",
    ")\n",
    "\n",
    "trainer.train()"
   ]
  }
 ],
 "metadata": {
  "kernelspec": {
   "display_name": ".venv",
   "language": "python",
   "name": "python3"
  },
  "language_info": {
   "codemirror_mode": {
    "name": "ipython",
    "version": 3
   },
   "file_extension": ".py",
   "mimetype": "text/x-python",
   "name": "python",
   "nbconvert_exporter": "python",
   "pygments_lexer": "ipython3",
   "version": "3.10.2"
  }
 },
 "nbformat": 4,
 "nbformat_minor": 2
}
