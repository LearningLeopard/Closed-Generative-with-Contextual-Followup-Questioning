{
    "cells": [
        {
            "cell_type": "code",
            "execution_count": 1,
            "metadata": {},
            "outputs": [
                {
                    "name": "stderr",
                    "output_type": "stream",
                    "text": [
                        "/projectnb/cs640grp/students/chvskch/.conda/envs/proj_env/lib/python3.10/site-packages/tqdm/auto.py:21: TqdmWarning: IProgress not found. Please update jupyter and ipywidgets. See https://ipywidgets.readthedocs.io/en/stable/user_install.html\n",
                        "  from .autonotebook import tqdm as notebook_tqdm\n"
                    ]
                }
            ],
            "source": [
                "import torch\n",
                "from transformers import AutoModelWithLMHead, AutoTokenizer, T5Tokenizer, T5ForConditionalGeneration\n",
                "from datasets import load_from_disk\n",
                "import evaluate"
            ]
        },
        {
            "cell_type": "code",
            "execution_count": 2,
            "metadata": {},
            "outputs": [],
            "source": [
                "# CHECKPOINT = \"../Model_Checkpoints/closed-generative-qa/checkpoint-156\" # Don't forget to replace this with the best checkpoint\n",
                "CHECKPOINT = \"google/flan-t5-base\""
            ]
        },
        {
            "cell_type": "code",
            "execution_count": 3,
            "metadata": {},
            "outputs": [],
            "source": [
                "visa_qa_testing = load_from_disk(\"../Datasets/Visa_QA_V4/\")[\"test\"]"
            ]
        },
        {
            "cell_type": "code",
            "execution_count": 6,
            "metadata": {},
            "outputs": [],
            "source": [
                "tokenizer = T5Tokenizer.from_pretrained(CHECKPOINT)\n",
                "model = T5ForConditionalGeneration.from_pretrained(CHECKPOINT)\n",
                "def generate_output(data_point):\n",
                "    question = data_point['question']\n",
                "    prompt = f\"You are an expert in dealing with questions of immigration and international travel. Answer the following question with proper reasoning and use the keywords to get some hints about the answer: Keywords: {', '.join(data_point['meta_tags'].split(','))} Question: {question}\"\n",
                "    encoded_input = tokenizer(prompt, return_tensors='pt')\n",
                "    output = model.generate(**encoded_input)\n",
                "    output = tokenizer.decode(output[0], skip_special_tokens=True)\n",
                "    print(\"\".join(output))\n",
                "    return {\"Predicted Answer\": output}"
            ]
        },
        {
            "cell_type": "code",
            "execution_count": 7,
            "metadata": {},
            "outputs": [
                {
                    "name": "stderr",
                    "output_type": "stream",
                    "text": [
                        "Map:   0%|          | 0/5 [00:00<?, ? examples/s]/projectnb/cs640grp/students/chvskch/.conda/envs/proj_env/lib/python3.10/site-packages/transformers/generation/utils.py:1375: UserWarning: Using the model-agnostic default `max_length` (=20) to control the generation length. We recommend setting `max_new_tokens` to control the maximum length of the generation.\n",
                        "  warnings.warn(\n",
                        "Map:  20%|██        | 1/5 [00:00<00:01,  2.02 examples/s]"
                    ]
                },
                {
                    "name": "stdout",
                    "output_type": "stream",
                    "text": [
                        "a.\n"
                    ]
                },
                {
                    "name": "stderr",
                    "output_type": "stream",
                    "text": [
                        "Map:  40%|████      | 2/5 [00:00<00:01,  2.52 examples/s]"
                    ]
                },
                {
                    "name": "stdout",
                    "output_type": "stream",
                    "text": [
                        "a.\n"
                    ]
                },
                {
                    "name": "stderr",
                    "output_type": "stream",
                    "text": [
                        "Map:  60%|██████    | 3/5 [00:01<00:00,  2.09 examples/s]"
                    ]
                },
                {
                    "name": "stdout",
                    "output_type": "stream",
                    "text": [
                        "airports have international transfer zones\n"
                    ]
                },
                {
                    "name": "stderr",
                    "output_type": "stream",
                    "text": [
                        "Map:  80%|████████  | 4/5 [00:02<00:00,  1.38 examples/s]"
                    ]
                },
                {
                    "name": "stdout",
                    "output_type": "stream",
                    "text": [
                        "The US doesn't check passports going out of the country, so they don't\n"
                    ]
                },
                {
                    "name": "stderr",
                    "output_type": "stream",
                    "text": [
                        "Map: 100%|██████████| 5/5 [00:03<00:00,  1.63 examples/s]"
                    ]
                },
                {
                    "name": "stdout",
                    "output_type": "stream",
                    "text": [
                        "['Expedia']\n"
                    ]
                },
                {
                    "name": "stderr",
                    "output_type": "stream",
                    "text": [
                        "\n"
                    ]
                }
            ],
            "source": [
                "prediction = visa_qa_testing.map(generate_output)"
            ]
        },
        {
            "cell_type": "code",
            "execution_count": 6,
            "metadata": {},
            "outputs": [
                {
                    "data": {
                        "text/plain": [
                            "Dataset({\n",
                            "    features: ['meta_tags', 'question', 'answer', 'vote_score', 'Accepted', 'Predicted Answer'],\n",
                            "    num_rows: 5\n",
                            "})"
                        ]
                    },
                    "execution_count": 6,
                    "metadata": {},
                    "output_type": "execute_result"
                }
            ],
            "source": [
                "prediction"
            ]
        },
        {
            "cell_type": "code",
            "execution_count": 7,
            "metadata": {},
            "outputs": [
                {
                    "name": "stdout",
                    "output_type": "stream",
                    "text": [
                        "['I, the reader, are a permanent resident of Canada.', 'passport, hong-kong, indonesian-citizens', 'canada, license, driving-license', 'customs-and-immigration, covid-19, german-language, blue-', 'id, visas, customs-and-immigration, Malaysia']\n",
                        "[\"If I were you, I would just submit a new application for the family permit, including the passport copy.  The application is free of charge, after all.\\nYour refusal even implies that you should do this (emphasis added):\\n\\nwhilst your application falls for refusal on the grounds of no sponsor ID I am satisfied that you are in a durable relationship akin to marriage in accordance with regulation 8 of the Immigration (EEA) Regulations 2016.\\n\\nIt's basically saying that the only reason they refused the application was the absence of the passport copy.\\nYou can also fly to the UK and present your evidence at the border, as you suggest.  I suppose the chance of success is high, but the potential cost of failure is also high: you could be sent back to New Zealand.  That's why it seems best to me to reapply.\\nTo answer your specific questions:\\n\\nAs a New Zealand citizen, technically I can enter the UK for 6 months as a visitor. However, now I have been denied my EEA Family Permit, will this affect my right to enter?\\n\\nNot automatically, but it could cause an immigration officer to doubt that you are a genuine visitor.  And that's only reasonable, because you aren't; you intend to stay in the UK.  Because you intend to stay in the UK, you shouldn't enter with the visa-free entry available to visitors; instead, you should enter as a partner of an EEA national.  You can do that without an EEA family permit, by submitting the same evidence at the border.  But, as mentioned above, this is somewhat more risky than just reapplying for the EEA family permit.\\n\\nI know as the unmarried partner of an EEA National, I legally am not required to even obtain a EEA Family Permit to join him in the UK, however, a friend advised me to. Do you recommend I simply go on my booked flight as planned, with all of my evidence and a copy of his passport I failed to put inside and present my case at the border with all evidence and the previous letter? My partner will meet me at the airport anyway.\\n\\nAs mentioned above, you can do this, and it will probably work, but I can't see any good reason for doing so in the information you've posted.  There could be factors that might tip the balance in favor of this approach, such as time constraints.\\n\\nIs there a way to quickly appeal this decision? They state I have no right to appeal, but combing the forums, it says I have ‘a limited right to appeal’. How do I go about appealing? Do I simply resubmit a new form? I was told this would likely be denied if I didn’t follow the correct procedure, but after dozens of phone calls and much question asking, no one has given me a direct answer as to what the “correct” procedure is.\\n\\nThe point of an appeal is to overturn an incorrect decision.  You can't usually introduce new evidence at an appeal.  So an appeal of this decision would fail, because, in light of the missing passport copy, the decision was correct.  On top of that, appeals cost money, while a new application would be free of charge.\\nThe best course of action is to submit a new application.\\n\", 'Instead of passport of original country, Macao Permanent Resident can enter HK with Macao SAR Permanent Resident Identity Card and Visit Permit for Residents of Macao SAR to Hong Kong SAR for <30days.\\nThe Visit Permit is valid for 7 years and holder can visit the HK on multiple occasions. Applicant should make the application in person in the Identification Services Bureau office. Applicants have to submit 1 passport photo and Macau ID card for verification. The permit cosst 100MOP and takes 5 working days.\\nPS1: Macauese cannot enter HK with Macau passport.\\nPS2: The permit is independence to the 7 days transit visa free policy in HK.\\n', \"Well, you are driving to British Columbia and from the description, the NJ probationary licence is the equivalent of the BC N(new driver) licence, with almost identical restrictions. Since N drivers are explicitly allowed to drive in the US:\\nhttp://drivinginstructorblog.com/l-and-n-restrictions/, you'll be fine.\\n\", '\\nSo my question is, is the Blue Card considered a \"long-term resident\"?\\n\\nSomeone with a blue card is not a \"long-term resident[] under the Long-term Residence Directive.\"  However, such a person is a \"person[] deriving [a] right to reside from...national law.\"  Therefore, the bearer of a valid German blue card should be permitted to return to a home in Germany.\\nThe term \"long-term resident\" denotes a beneficiary of Directive 2003/109/EC of 25 November 2003 concerning the status of third-country nationals who are long-term residents, referred to in the quoted text as \"the Long-term Residence Directive.\"  To be a beneficiary of this directive, you must have lived in Germany for at least five years.\\nHowever, the text that you have received from the consulate seems like a judicial or other decision that places limits on the \"temporary travel restriction,\" not a description of the actual terms of the restriction itself.  Without more context from the message you received, it\\'s impossible to say what the terms of the restriction actually are.\\nAt Coronavirus and entry restrictions: 4 things travelers to Germany need to know, which is five days old as of this writing, the German foreign ministry says that it will allow foreigners holding any residence permit for another EU country to transit through Germany in order to return to the country of residence, but they do not explicitly cover non-Germans who reside in Germany:\\n\\nEU-citzens and citizens of Great Britain, Iceland, Liechtenstein, Norway and Switzerland and their family members will be allowed to transit through Germany to reach their home countries. The same will apply for foreigners holding a residence permit in one of these countries.\\n\\nHowever, any residence permit is probably included in \"a national long-term visa,\" even though it is not strictly speaking a visa.  Your blue card is a residence permit, so you are probably fine to return home.\\n', \"Malaysian immigration will have to issue you a new visa-free sticker everytime you arrive and that wouldn't be a problem. As long you have a return ticket before the end of visa free period and accommodation, they'll happily let you come to the country. They might question you regarding your purpose to visit to Malaysia and as long as that matches the conditions of visa-free entrance, they'll be fine with it.\\nVisa runs are more like staying in Malaysia for 3 months and then and make a trip to come back for another 3 months, essentially making it 6 months. In your case it's all simply within 3 months.\\n\"]\n",
                        "{'rouge1': np.float64(0.034885377497002594), 'rouge2': np.float64(0.004300467715101861), 'rougeL': np.float64(0.03157959237303566), 'rougeLsum': np.float64(0.03157959237303566)}\n"
                    ]
                }
            ],
            "source": [
                "rogue = evaluate.load(\"rouge\")\n",
                "predictions = prediction['Predicted Answer']\n",
                "ground_truth = prediction['answer']\n",
                "print(rogue.compute(predictions=predictions, references = ground_truth))"
            ]
        }
    ],
    "metadata": {
        "kernelspec": {
            "display_name": "proj_env",
            "language": "python",
            "name": "python3"
        },
        "language_info": {
            "codemirror_mode": {
                "name": "ipython",
                "version": 3
            },
            "file_extension": ".py",
            "mimetype": "text/x-python",
            "name": "python",
            "nbconvert_exporter": "python",
            "pygments_lexer": "ipython3",
            "version": "3.10.2"
        },
        "orig_nbformat": 4
    },
    "nbformat": 4,
    "nbformat_minor": 2
}